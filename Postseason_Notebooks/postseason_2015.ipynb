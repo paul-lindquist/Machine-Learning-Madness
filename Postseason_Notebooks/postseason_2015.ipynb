{
 "cells": [
  {
   "cell_type": "code",
   "execution_count": 1,
   "metadata": {
    "ExecuteTime": {
     "end_time": "2021-12-10T03:45:48.392763Z",
     "start_time": "2021-12-10T03:45:46.526478Z"
    }
   },
   "outputs": [],
   "source": [
    "# Import the relevant packages\n",
    "import pandas as pd\n",
    "import numpy as np\n",
    "import matplotlib.pyplot as plt\n",
    "from sklearn.linear_model import LogisticRegression\n",
    "from sklearn.model_selection import cross_val_score, train_test_split,GridSearchCV\n",
    "from sklearn.metrics import plot_confusion_matrix, plot_roc_curve, accuracy_score, \\\n",
    "recall_score, precision_score, f1_score\n",
    "from sklearn.neighbors import KNeighborsClassifier\n",
    "from sklearn.preprocessing import StandardScaler\n",
    "from sklearn.tree import DecisionTreeClassifier, plot_tree\n",
    "from sklearn.ensemble import BaggingClassifier, RandomForestClassifier\n",
    "from sklearn.datasets import load_iris\n",
    "from sklearn.ensemble import AdaBoostClassifier, GradientBoostingClassifier\n",
    "from xgboost import XGBClassifier\n",
    "import statsmodels.api as sm\n",
    "from sklearn.feature_selection import RFECV\n",
    "\n",
    "import warnings\n",
    "warnings.filterwarnings(\"ignore\")"
   ]
  },
  {
   "cell_type": "code",
   "execution_count": 2,
   "metadata": {
    "ExecuteTime": {
     "end_time": "2021-12-10T03:45:50.295320Z",
     "start_time": "2021-12-10T03:45:50.290485Z"
    }
   },
   "outputs": [],
   "source": [
    "#Import functions notebook and load data set here\n",
    "import sys\n",
    "sys.path.append(\"../\")\n",
    "from function_notebook_1 import *"
   ]
  },
  {
   "cell_type": "code",
   "execution_count": 3,
   "metadata": {
    "ExecuteTime": {
     "end_time": "2021-12-10T03:45:54.601178Z",
     "start_time": "2021-12-10T03:45:54.440775Z"
    }
   },
   "outputs": [],
   "source": [
    "df = pd.read_csv('../data/regularseason15.csv').drop('Unnamed: 0', axis = 1)\n",
    "df2 = pd.read_csv('../data/postseason15.csv').drop(['Unnamed: 0','w_loc'], axis = 1)\n",
    "\n",
    "df2['w_loc_H'] = 0\n",
    "df2['w_loc_N'] = 1\n"
   ]
  },
  {
   "cell_type": "code",
   "execution_count": 4,
   "metadata": {
    "ExecuteTime": {
     "end_time": "2021-12-09T03:20:31.723429Z",
     "start_time": "2021-12-09T03:20:31.538854Z"
    }
   },
   "outputs": [
    {
     "data": {
      "text/html": [
       "<div>\n",
       "<style scoped>\n",
       "    .dataframe tbody tr th:only-of-type {\n",
       "        vertical-align: middle;\n",
       "    }\n",
       "\n",
       "    .dataframe tbody tr th {\n",
       "        vertical-align: top;\n",
       "    }\n",
       "\n",
       "    .dataframe thead th {\n",
       "        text-align: right;\n",
       "    }\n",
       "</style>\n",
       "<table border=\"1\" class=\"dataframe\">\n",
       "  <thead>\n",
       "    <tr style=\"text-align: right;\">\n",
       "      <th></th>\n",
       "      <th>W_TeamID</th>\n",
       "      <th>W_Score</th>\n",
       "      <th>W_FGM</th>\n",
       "      <th>W_FGA</th>\n",
       "      <th>W_FGM3</th>\n",
       "      <th>W_FGA3</th>\n",
       "      <th>W_FTM</th>\n",
       "      <th>W_FTA</th>\n",
       "      <th>W_OR</th>\n",
       "      <th>W_DR</th>\n",
       "      <th>...</th>\n",
       "      <th>L_Opp_3Pr</th>\n",
       "      <th>L_Opp_TR</th>\n",
       "      <th>L_Opp_ATOr</th>\n",
       "      <th>L_Opp_Ast_%</th>\n",
       "      <th>L_Opp_Stl_%</th>\n",
       "      <th>L_Opp_Blk_%</th>\n",
       "      <th>L_Opp_TO_r</th>\n",
       "      <th>fav_win</th>\n",
       "      <th>w_loc_H</th>\n",
       "      <th>w_loc_N</th>\n",
       "    </tr>\n",
       "  </thead>\n",
       "  <tbody>\n",
       "    <tr>\n",
       "      <th>0</th>\n",
       "      <td>1102.0</td>\n",
       "      <td>78.000000</td>\n",
       "      <td>31.000000</td>\n",
       "      <td>62.000000</td>\n",
       "      <td>6.000000</td>\n",
       "      <td>19.000000</td>\n",
       "      <td>10.000000</td>\n",
       "      <td>15.000000</td>\n",
       "      <td>15.000000</td>\n",
       "      <td>17.000000</td>\n",
       "      <td>...</td>\n",
       "      <td>0.484140</td>\n",
       "      <td>31.000000</td>\n",
       "      <td>0.923077</td>\n",
       "      <td>0.461538</td>\n",
       "      <td>0.047281</td>\n",
       "      <td>0.095238</td>\n",
       "      <td>0.178326</td>\n",
       "      <td>True</td>\n",
       "      <td>0</td>\n",
       "      <td>1</td>\n",
       "    </tr>\n",
       "    <tr>\n",
       "      <th>1</th>\n",
       "      <td>1119.0</td>\n",
       "      <td>84.000000</td>\n",
       "      <td>30.000000</td>\n",
       "      <td>61.000000</td>\n",
       "      <td>13.000000</td>\n",
       "      <td>25.000000</td>\n",
       "      <td>11.000000</td>\n",
       "      <td>17.000000</td>\n",
       "      <td>17.000000</td>\n",
       "      <td>20.000000</td>\n",
       "      <td>...</td>\n",
       "      <td>0.076263</td>\n",
       "      <td>22.000000</td>\n",
       "      <td>0.909091</td>\n",
       "      <td>0.434783</td>\n",
       "      <td>0.082305</td>\n",
       "      <td>0.017241</td>\n",
       "      <td>0.173365</td>\n",
       "      <td>True</td>\n",
       "      <td>0</td>\n",
       "      <td>1</td>\n",
       "    </tr>\n",
       "    <tr>\n",
       "      <th>2</th>\n",
       "      <td>1129.0</td>\n",
       "      <td>81.000000</td>\n",
       "      <td>23.000000</td>\n",
       "      <td>49.000000</td>\n",
       "      <td>6.000000</td>\n",
       "      <td>17.000000</td>\n",
       "      <td>29.000000</td>\n",
       "      <td>44.000000</td>\n",
       "      <td>10.000000</td>\n",
       "      <td>26.000000</td>\n",
       "      <td>...</td>\n",
       "      <td>0.278940</td>\n",
       "      <td>28.000000</td>\n",
       "      <td>5.333333</td>\n",
       "      <td>0.571429</td>\n",
       "      <td>0.092654</td>\n",
       "      <td>0.056604</td>\n",
       "      <td>0.040161</td>\n",
       "      <td>True</td>\n",
       "      <td>0</td>\n",
       "      <td>0</td>\n",
       "    </tr>\n",
       "    <tr>\n",
       "      <th>3</th>\n",
       "      <td>1181.0</td>\n",
       "      <td>113.000000</td>\n",
       "      <td>42.000000</td>\n",
       "      <td>69.000000</td>\n",
       "      <td>16.000000</td>\n",
       "      <td>31.000000</td>\n",
       "      <td>13.000000</td>\n",
       "      <td>16.000000</td>\n",
       "      <td>17.000000</td>\n",
       "      <td>29.000000</td>\n",
       "      <td>...</td>\n",
       "      <td>0.225904</td>\n",
       "      <td>35.000000</td>\n",
       "      <td>1.500000</td>\n",
       "      <td>0.631579</td>\n",
       "      <td>0.039591</td>\n",
       "      <td>0.036364</td>\n",
       "      <td>0.107527</td>\n",
       "      <td>True</td>\n",
       "      <td>0</td>\n",
       "      <td>0</td>\n",
       "    </tr>\n",
       "    <tr>\n",
       "      <th>4</th>\n",
       "      <td>1218.0</td>\n",
       "      <td>85.000000</td>\n",
       "      <td>31.000000</td>\n",
       "      <td>67.000000</td>\n",
       "      <td>8.000000</td>\n",
       "      <td>24.000000</td>\n",
       "      <td>15.000000</td>\n",
       "      <td>20.000000</td>\n",
       "      <td>18.000000</td>\n",
       "      <td>28.000000</td>\n",
       "      <td>...</td>\n",
       "      <td>0.272109</td>\n",
       "      <td>31.000000</td>\n",
       "      <td>1.272727</td>\n",
       "      <td>0.388889</td>\n",
       "      <td>0.055646</td>\n",
       "      <td>0.053333</td>\n",
       "      <td>0.110887</td>\n",
       "      <td>True</td>\n",
       "      <td>1</td>\n",
       "      <td>0</td>\n",
       "    </tr>\n",
       "    <tr>\n",
       "      <th>...</th>\n",
       "      <td>...</td>\n",
       "      <td>...</td>\n",
       "      <td>...</td>\n",
       "      <td>...</td>\n",
       "      <td>...</td>\n",
       "      <td>...</td>\n",
       "      <td>...</td>\n",
       "      <td>...</td>\n",
       "      <td>...</td>\n",
       "      <td>...</td>\n",
       "      <td>...</td>\n",
       "      <td>...</td>\n",
       "      <td>...</td>\n",
       "      <td>...</td>\n",
       "      <td>...</td>\n",
       "      <td>...</td>\n",
       "      <td>...</td>\n",
       "      <td>...</td>\n",
       "      <td>...</td>\n",
       "      <td>...</td>\n",
       "      <td>...</td>\n",
       "    </tr>\n",
       "    <tr>\n",
       "      <th>5144</th>\n",
       "      <td>1209.0</td>\n",
       "      <td>71.677419</td>\n",
       "      <td>25.774194</td>\n",
       "      <td>53.806452</td>\n",
       "      <td>4.774194</td>\n",
       "      <td>14.774194</td>\n",
       "      <td>15.354839</td>\n",
       "      <td>20.903226</td>\n",
       "      <td>9.290323</td>\n",
       "      <td>23.322581</td>\n",
       "      <td>...</td>\n",
       "      <td>0.323617</td>\n",
       "      <td>35.925926</td>\n",
       "      <td>0.748718</td>\n",
       "      <td>0.494078</td>\n",
       "      <td>0.067551</td>\n",
       "      <td>0.051896</td>\n",
       "      <td>0.188315</td>\n",
       "      <td>True</td>\n",
       "      <td>0</td>\n",
       "      <td>1</td>\n",
       "    </tr>\n",
       "    <tr>\n",
       "      <th>5145</th>\n",
       "      <td>1246.0</td>\n",
       "      <td>74.818182</td>\n",
       "      <td>26.000000</td>\n",
       "      <td>55.606061</td>\n",
       "      <td>5.393939</td>\n",
       "      <td>15.666667</td>\n",
       "      <td>17.424242</td>\n",
       "      <td>24.181818</td>\n",
       "      <td>12.909091</td>\n",
       "      <td>25.424242</td>\n",
       "      <td>...</td>\n",
       "      <td>0.267057</td>\n",
       "      <td>35.424242</td>\n",
       "      <td>0.775472</td>\n",
       "      <td>0.514393</td>\n",
       "      <td>0.066270</td>\n",
       "      <td>0.046328</td>\n",
       "      <td>0.194013</td>\n",
       "      <td>True</td>\n",
       "      <td>0</td>\n",
       "      <td>1</td>\n",
       "    </tr>\n",
       "    <tr>\n",
       "      <th>5146</th>\n",
       "      <td>1374.0</td>\n",
       "      <td>69.645161</td>\n",
       "      <td>24.870968</td>\n",
       "      <td>51.096774</td>\n",
       "      <td>4.322581</td>\n",
       "      <td>11.806452</td>\n",
       "      <td>15.580645</td>\n",
       "      <td>22.258065</td>\n",
       "      <td>11.129032</td>\n",
       "      <td>25.032258</td>\n",
       "      <td>...</td>\n",
       "      <td>0.297412</td>\n",
       "      <td>32.363636</td>\n",
       "      <td>0.972752</td>\n",
       "      <td>0.515152</td>\n",
       "      <td>0.078420</td>\n",
       "      <td>0.070431</td>\n",
       "      <td>0.153054</td>\n",
       "      <td>True</td>\n",
       "      <td>0</td>\n",
       "      <td>1</td>\n",
       "    </tr>\n",
       "    <tr>\n",
       "      <th>5147</th>\n",
       "      <td>1433.0</td>\n",
       "      <td>72.529412</td>\n",
       "      <td>24.941176</td>\n",
       "      <td>59.411765</td>\n",
       "      <td>8.029412</td>\n",
       "      <td>23.558824</td>\n",
       "      <td>14.617647</td>\n",
       "      <td>22.264706</td>\n",
       "      <td>12.382353</td>\n",
       "      <td>22.911765</td>\n",
       "      <td>...</td>\n",
       "      <td>0.282011</td>\n",
       "      <td>32.406250</td>\n",
       "      <td>0.887356</td>\n",
       "      <td>0.545969</td>\n",
       "      <td>0.073172</td>\n",
       "      <td>0.073482</td>\n",
       "      <td>0.184010</td>\n",
       "      <td>True</td>\n",
       "      <td>0</td>\n",
       "      <td>1</td>\n",
       "    </tr>\n",
       "    <tr>\n",
       "      <th>5148</th>\n",
       "      <td>1458.0</td>\n",
       "      <td>71.636364</td>\n",
       "      <td>25.303030</td>\n",
       "      <td>52.757576</td>\n",
       "      <td>6.787879</td>\n",
       "      <td>19.303030</td>\n",
       "      <td>14.242424</td>\n",
       "      <td>18.727273</td>\n",
       "      <td>9.636364</td>\n",
       "      <td>24.363636</td>\n",
       "      <td>...</td>\n",
       "      <td>0.295874</td>\n",
       "      <td>31.121212</td>\n",
       "      <td>0.948509</td>\n",
       "      <td>0.497866</td>\n",
       "      <td>0.074016</td>\n",
       "      <td>0.048413</td>\n",
       "      <td>0.150345</td>\n",
       "      <td>True</td>\n",
       "      <td>0</td>\n",
       "      <td>1</td>\n",
       "    </tr>\n",
       "  </tbody>\n",
       "</table>\n",
       "<p>5149 rows × 109 columns</p>\n",
       "</div>"
      ],
      "text/plain": [
       "      W_TeamID     W_Score      W_FGM      W_FGA     W_FGM3     W_FGA3  \\\n",
       "0       1102.0   78.000000  31.000000  62.000000   6.000000  19.000000   \n",
       "1       1119.0   84.000000  30.000000  61.000000  13.000000  25.000000   \n",
       "2       1129.0   81.000000  23.000000  49.000000   6.000000  17.000000   \n",
       "3       1181.0  113.000000  42.000000  69.000000  16.000000  31.000000   \n",
       "4       1218.0   85.000000  31.000000  67.000000   8.000000  24.000000   \n",
       "...        ...         ...        ...        ...        ...        ...   \n",
       "5144    1209.0   71.677419  25.774194  53.806452   4.774194  14.774194   \n",
       "5145    1246.0   74.818182  26.000000  55.606061   5.393939  15.666667   \n",
       "5146    1374.0   69.645161  24.870968  51.096774   4.322581  11.806452   \n",
       "5147    1433.0   72.529412  24.941176  59.411765   8.029412  23.558824   \n",
       "5148    1458.0   71.636364  25.303030  52.757576   6.787879  19.303030   \n",
       "\n",
       "          W_FTM      W_FTA       W_OR       W_DR  ...  L_Opp_3Pr   L_Opp_TR  \\\n",
       "0     10.000000  15.000000  15.000000  17.000000  ...   0.484140  31.000000   \n",
       "1     11.000000  17.000000  17.000000  20.000000  ...   0.076263  22.000000   \n",
       "2     29.000000  44.000000  10.000000  26.000000  ...   0.278940  28.000000   \n",
       "3     13.000000  16.000000  17.000000  29.000000  ...   0.225904  35.000000   \n",
       "4     15.000000  20.000000  18.000000  28.000000  ...   0.272109  31.000000   \n",
       "...         ...        ...        ...        ...  ...        ...        ...   \n",
       "5144  15.354839  20.903226   9.290323  23.322581  ...   0.323617  35.925926   \n",
       "5145  17.424242  24.181818  12.909091  25.424242  ...   0.267057  35.424242   \n",
       "5146  15.580645  22.258065  11.129032  25.032258  ...   0.297412  32.363636   \n",
       "5147  14.617647  22.264706  12.382353  22.911765  ...   0.282011  32.406250   \n",
       "5148  14.242424  18.727273   9.636364  24.363636  ...   0.295874  31.121212   \n",
       "\n",
       "      L_Opp_ATOr  L_Opp_Ast_%  L_Opp_Stl_%  L_Opp_Blk_%  L_Opp_TO_r  fav_win  \\\n",
       "0       0.923077     0.461538     0.047281     0.095238    0.178326     True   \n",
       "1       0.909091     0.434783     0.082305     0.017241    0.173365     True   \n",
       "2       5.333333     0.571429     0.092654     0.056604    0.040161     True   \n",
       "3       1.500000     0.631579     0.039591     0.036364    0.107527     True   \n",
       "4       1.272727     0.388889     0.055646     0.053333    0.110887     True   \n",
       "...          ...          ...          ...          ...         ...      ...   \n",
       "5144    0.748718     0.494078     0.067551     0.051896    0.188315     True   \n",
       "5145    0.775472     0.514393     0.066270     0.046328    0.194013     True   \n",
       "5146    0.972752     0.515152     0.078420     0.070431    0.153054     True   \n",
       "5147    0.887356     0.545969     0.073172     0.073482    0.184010     True   \n",
       "5148    0.948509     0.497866     0.074016     0.048413    0.150345     True   \n",
       "\n",
       "      w_loc_H  w_loc_N  \n",
       "0           0        1  \n",
       "1           0        1  \n",
       "2           0        0  \n",
       "3           0        0  \n",
       "4           1        0  \n",
       "...       ...      ...  \n",
       "5144        0        1  \n",
       "5145        0        1  \n",
       "5146        0        1  \n",
       "5147        0        1  \n",
       "5148        0        1  \n",
       "\n",
       "[5149 rows x 109 columns]"
      ]
     },
     "execution_count": 4,
     "metadata": {},
     "output_type": "execute_result"
    }
   ],
   "source": [
    "df = pd.get_dummies(df, columns=['w_loc'], drop_first=True)\n",
    "df"
   ]
  },
  {
   "cell_type": "code",
   "execution_count": 5,
   "metadata": {
    "ExecuteTime": {
     "end_time": "2021-12-09T03:20:31.767150Z",
     "start_time": "2021-12-09T03:20:31.742125Z"
    }
   },
   "outputs": [],
   "source": [
    "X_train=df.drop('fav_win',axis=1)\n",
    "X_test=df2.drop('fav_win',axis=1)\n",
    "y_train=df['fav_win']\n",
    "y_test = df2['fav_win']"
   ]
  },
  {
   "cell_type": "code",
   "execution_count": 6,
   "metadata": {
    "ExecuteTime": {
     "end_time": "2021-12-09T03:20:31.883773Z",
     "start_time": "2021-12-09T03:20:31.800011Z"
    }
   },
   "outputs": [],
   "source": [
    "ss = StandardScaler()\n",
    "X_train_scaled = ss.fit_transform(X_train)\n",
    "X_test_scaled = ss.transform(X_test)"
   ]
  },
  {
   "cell_type": "code",
   "execution_count": 7,
   "metadata": {
    "ExecuteTime": {
     "end_time": "2021-12-09T03:20:31.899528Z",
     "start_time": "2021-12-09T03:20:31.890185Z"
    }
   },
   "outputs": [],
   "source": [
    "X_train_scaled = pd.DataFrame(X_train_scaled, columns=X_train.columns)\n",
    "X_test_scaled = pd.DataFrame(X_test_scaled, columns=X_test.columns)"
   ]
  },
  {
   "cell_type": "markdown",
   "metadata": {},
   "source": [
    "### Logistic Regression"
   ]
  },
  {
   "cell_type": "code",
   "execution_count": 8,
   "metadata": {
    "ExecuteTime": {
     "end_time": "2021-12-09T03:21:48.082833Z",
     "start_time": "2021-12-09T03:20:31.927210Z"
    }
   },
   "outputs": [],
   "source": [
    "log_feat=feature_select(X_train_scaled,y_train,LogisticRegression,min_features=10)\n",
    "X_train_best_log = X_train_scaled[log_feat]\n",
    "X_test_best_log = X_test_scaled[log_feat]"
   ]
  },
  {
   "cell_type": "code",
   "execution_count": 9,
   "metadata": {
    "ExecuteTime": {
     "end_time": "2021-12-09T03:23:52.679165Z",
     "start_time": "2021-12-09T03:21:48.092330Z"
    }
   },
   "outputs": [
    {
     "name": "stdout",
     "output_type": "stream",
     "text": [
      "Penalty: l2\n",
      "Solver: saga\n",
      "Mean Cross-Val Score: 0.8434725013445045\n",
      "Train Mean Accuracy: 0.8527869489221208\n",
      "Test Mean Accuracy: 0.8208955223880597\n",
      "Recall Score: 0.9782608695652174\n",
      "Precision Score: 0.8035714285714286\n",
      "F1 Score: 0.8823529411764706\n"
     ]
    },
    {
     "data": {
      "image/png": "[encoded data removed]",
      "text/plain": [
       "<Figure size 432x288 with 1 Axes>"
      ]
     },
     "metadata": {
      "needs_background": "light"
     },
     "output_type": "display_data"
    },
    {
     "data": {
      "image/png": "[encoded data removed]",
      "text/plain": [
       "<Figure size 432x288 with 2 Axes>"
      ]
     },
     "metadata": {
      "needs_background": "light"
     },
     "output_type": "display_data"
    },
    {
     "data": {
      "image/png": "[encoded data removed]",
      "text/plain": [
       "<Figure size 432x288 with 2 Axes>"
      ]
     },
     "metadata": {
      "needs_background": "light"
     },
     "output_type": "display_data"
    }
   ],
   "source": [
    "logreg(X_train_best_log, X_test_best_log, y_train, y_test)"
   ]
  },
  {
   "cell_type": "markdown",
   "metadata": {},
   "source": [
    "### KNN"
   ]
  },
  {
   "cell_type": "code",
   "execution_count": 10,
   "metadata": {
    "ExecuteTime": {
     "end_time": "2021-12-09T03:23:52.719439Z",
     "start_time": "2021-12-09T03:23:52.697801Z"
    }
   },
   "outputs": [],
   "source": [
    "#knn(X_train_scaled, X_test_scaled, y_train, y_test)"
   ]
  },
  {
   "cell_type": "markdown",
   "metadata": {},
   "source": [
    "### Decision Tree"
   ]
  },
  {
   "cell_type": "code",
   "execution_count": 11,
   "metadata": {
    "ExecuteTime": {
     "end_time": "2021-12-09T03:23:52.730963Z",
     "start_time": "2021-12-09T03:23:52.724718Z"
    }
   },
   "outputs": [],
   "source": [
    "#dtree_feats=feature_select(X_train_scaled,y_train,DecisionTreeClassifier,min_features=10)"
   ]
  },
  {
   "cell_type": "code",
   "execution_count": 12,
   "metadata": {
    "ExecuteTime": {
     "end_time": "2021-12-09T03:23:52.741346Z",
     "start_time": "2021-12-09T03:23:52.735063Z"
    }
   },
   "outputs": [],
   "source": [
    "#X_train_best_dtree=X_train[dtree_feats]\n",
    "#X_test_best_dtree=X_test[dtree_feats]"
   ]
  },
  {
   "cell_type": "code",
   "execution_count": 13,
   "metadata": {
    "ExecuteTime": {
     "end_time": "2021-12-09T03:23:52.756462Z",
     "start_time": "2021-12-09T03:23:52.747853Z"
    }
   },
   "outputs": [],
   "source": [
    "#dtree(X_train_best_dtree, X_test_best_dtree, y_train, y_test)"
   ]
  },
  {
   "cell_type": "markdown",
   "metadata": {},
   "source": [
    "### Random Forest"
   ]
  },
  {
   "cell_type": "code",
   "execution_count": 14,
   "metadata": {
    "ExecuteTime": {
     "end_time": "2021-12-09T03:46:55.941405Z",
     "start_time": "2021-12-09T03:23:52.760649Z"
    }
   },
   "outputs": [],
   "source": [
    "random_forest_feat=feature_select(X_train_scaled,y_train,RandomForestClassifier,min_features=10)\n",
    "X_train_best_rforest=X_train_scaled[random_forest_feat]\n",
    "X_test_best_rforest=X_test_scaled[random_forest_feat]"
   ]
  },
  {
   "cell_type": "code",
   "execution_count": 15,
   "metadata": {
    "ExecuteTime": {
     "end_time": "2021-12-09T04:30:19.567565Z",
     "start_time": "2021-12-09T03:46:55.945020Z"
    }
   },
   "outputs": [
    {
     "name": "stdout",
     "output_type": "stream",
     "text": [
      "Number of Trees: 90\n",
      "Criterion: entropy\n",
      "Mean Cross-Val Score: 0.844442054214196\n",
      "Train Mean Accuracy: 1.0\n",
      "Test Mean Accuracy: 0.7313432835820896\n",
      "Recall Score: 0.9565217391304348\n",
      "Precision Score: 0.7333333333333333\n",
      "F1 score: 0.8301886792452831\n"
     ]
    },
    {
     "data": {
      "image/png": "[encoded data removed]",
      "text/plain": [
       "<Figure size 432x288 with 1 Axes>"
      ]
     },
     "metadata": {
      "needs_background": "light"
     },
     "output_type": "display_data"
    },
    {
     "data": {
      "image/png": "[encoded data removed]",
      "text/plain": [
       "<Figure size 432x288 with 2 Axes>"
      ]
     },
     "metadata": {
      "needs_background": "light"
     },
     "output_type": "display_data"
    },
    {
     "data": {
      "image/png": "[encoded data removed]",
      "text/plain": [
       "<Figure size 432x288 with 2 Axes>"
      ]
     },
     "metadata": {
      "needs_background": "light"
     },
     "output_type": "display_data"
    }
   ],
   "source": [
    "random_forest(X_train, X_test, y_train, y_test, cv=5)"
   ]
  },
  {
   "cell_type": "markdown",
   "metadata": {},
   "source": [
    "### Bagging Classifier"
   ]
  },
  {
   "cell_type": "code",
   "execution_count": 16,
   "metadata": {
    "ExecuteTime": {
     "end_time": "2021-12-09T04:30:19.631744Z",
     "start_time": "2021-12-09T04:30:19.619267Z"
    }
   },
   "outputs": [],
   "source": [
    "#bagged(X_train, X_test, y_train, y_test, cv=5)"
   ]
  },
  {
   "cell_type": "markdown",
   "metadata": {},
   "source": [
    "### XGboost"
   ]
  },
  {
   "cell_type": "code",
   "execution_count": 17,
   "metadata": {
    "ExecuteTime": {
     "end_time": "2021-12-09T05:01:19.038466Z",
     "start_time": "2021-12-09T04:30:19.668789Z"
    }
   },
   "outputs": [
    {
     "name": "stdout",
     "output_type": "stream",
     "text": [
      "XGBoost Learning Rate: 0.1\n",
      "XGBoost Max Depth: 4\n",
      "XGBoost Min Child Weight: 3\n",
      "XGBoost Subsample: 1\n",
      "XGBoost Estimators: 500\n",
      "Mean Cross-Val Score: 0.8677501957787275\n",
      "Train Mean Accuracy Score: 1.0\n",
      "Test Mean Accuracy Score: 0.7761194029850746\n",
      "Recall Score: 0.9130434782608695\n",
      "Precision Score: 0.7924528301886793\n",
      "F1 score: 0.8484848484848485\n"
     ]
    },
    {
     "data": {
      "image/png": "[encoded data removed]",
      "text/plain": [
       "<Figure size 432x288 with 1 Axes>"
      ]
     },
     "metadata": {
      "needs_background": "light"
     },
     "output_type": "display_data"
    },
    {
     "data": {
      "image/png": "[encoded data removed]",
      "text/plain": [
       "<Figure size 432x288 with 2 Axes>"
      ]
     },
     "metadata": {
      "needs_background": "light"
     },
     "output_type": "display_data"
    },
    {
     "data": {
      "image/png": "[encoded data removed]",
      "text/plain": [
       "<Figure size 432x288 with 2 Axes>"
      ]
     },
     "metadata": {
      "needs_background": "light"
     },
     "output_type": "display_data"
    }
   ],
   "source": [
    "xgboost(X_train, X_test, y_train, y_test, cv=5)"
   ]
  }
 ],
 "metadata": {
  "kernelspec": {
   "display_name": "Python (learn-env)",
   "language": "python",
   "name": "learn-env"
  },
  "language_info": {
   "codemirror_mode": {
    "name": "ipython",
    "version": 3
   },
   "file_extension": ".py",
   "mimetype": "text/x-python",
   "name": "python",
   "nbconvert_exporter": "python",
   "pygments_lexer": "ipython3",
   "version": "3.8.5"
  }
 },
 "nbformat": 4,
 "nbformat_minor": 4
}
