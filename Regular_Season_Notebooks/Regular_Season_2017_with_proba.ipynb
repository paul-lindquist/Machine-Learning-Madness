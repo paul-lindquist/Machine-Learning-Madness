{
 "cells": [
  {
   "cell_type": "code",
   "execution_count": 4,
   "metadata": {
    "ExecuteTime": {
     "end_time": "2021-12-09T23:25:05.975372Z",
     "start_time": "2021-12-09T23:25:05.936119Z"
    }
   },
   "outputs": [],
   "source": [
    "# Import the relevant packages\n",
    "import pandas as pd\n",
    "import numpy as np\n",
    "import matplotlib.pyplot as plt\n",
    "from sklearn.linear_model import LogisticRegression\n",
    "from sklearn.model_selection import cross_val_score, train_test_split,GridSearchCV\n",
    "from sklearn.metrics import plot_confusion_matrix, plot_roc_curve, accuracy_score, \\\n",
    "recall_score, precision_score, f1_score\n",
    "from sklearn.neighbors import KNeighborsClassifier\n",
    "from sklearn.preprocessing import StandardScaler\n",
    "from sklearn.tree import DecisionTreeClassifier, plot_tree\n",
    "from sklearn.ensemble import BaggingClassifier, RandomForestClassifier\n",
    "from sklearn.datasets import load_iris\n",
    "from sklearn.ensemble import AdaBoostClassifier, GradientBoostingClassifier\n",
    "from xgboost import XGBClassifier\n",
    "import statsmodels.api as sm\n",
    "from sklearn.feature_selection import RFECV\n",
    "\n",
    "import warnings\n",
    "warnings.filterwarnings(\"ignore\")"
   ]
  },
  {
   "cell_type": "code",
   "execution_count": 5,
   "metadata": {
    "ExecuteTime": {
     "end_time": "2021-12-09T23:25:06.182902Z",
     "start_time": "2021-12-09T23:25:06.160618Z"
    }
   },
   "outputs": [],
   "source": [
    "#Import functions notebook and load data set here\n",
    "import sys\n",
    "sys.path.append(\"../\")\n",
    "from function_notebook_1 import *"
   ]
  },
  {
   "cell_type": "code",
   "execution_count": 6,
   "metadata": {
    "ExecuteTime": {
     "end_time": "2021-12-09T23:25:07.061251Z",
     "start_time": "2021-12-09T23:25:06.420141Z"
    }
   },
   "outputs": [
    {
     "data": {
      "text/html": [
       "<div>\n",
       "<style scoped>\n",
       "    .dataframe tbody tr th:only-of-type {\n",
       "        vertical-align: middle;\n",
       "    }\n",
       "\n",
       "    .dataframe tbody tr th {\n",
       "        vertical-align: top;\n",
       "    }\n",
       "\n",
       "    .dataframe thead th {\n",
       "        text-align: right;\n",
       "    }\n",
       "</style>\n",
       "<table border=\"1\" class=\"dataframe\">\n",
       "  <thead>\n",
       "    <tr style=\"text-align: right;\">\n",
       "      <th></th>\n",
       "      <th>w_loc</th>\n",
       "      <th>W_TeamID</th>\n",
       "      <th>W_Score</th>\n",
       "      <th>W_FGM</th>\n",
       "      <th>W_FGA</th>\n",
       "      <th>W_FGM3</th>\n",
       "      <th>W_FGA3</th>\n",
       "      <th>W_FTM</th>\n",
       "      <th>W_FTA</th>\n",
       "      <th>W_OR</th>\n",
       "      <th>...</th>\n",
       "      <th>L_Opp_TSpct</th>\n",
       "      <th>L_Opp_FTr</th>\n",
       "      <th>L_Opp_3Pr</th>\n",
       "      <th>L_Opp_TR</th>\n",
       "      <th>L_Opp_ATOr</th>\n",
       "      <th>L_Opp_Ast_%</th>\n",
       "      <th>L_Opp_Stl_%</th>\n",
       "      <th>L_Opp_Blk_%</th>\n",
       "      <th>L_Opp_TO_r</th>\n",
       "      <th>fav_win</th>\n",
       "    </tr>\n",
       "  </thead>\n",
       "  <tbody>\n",
       "    <tr>\n",
       "      <th>0</th>\n",
       "      <td>H</td>\n",
       "      <td>1398.0</td>\n",
       "      <td>78.0</td>\n",
       "      <td>23.0</td>\n",
       "      <td>57.0</td>\n",
       "      <td>7.0</td>\n",
       "      <td>20.0</td>\n",
       "      <td>25.0</td>\n",
       "      <td>38.0</td>\n",
       "      <td>16.0</td>\n",
       "      <td>...</td>\n",
       "      <td>0.485331</td>\n",
       "      <td>0.316667</td>\n",
       "      <td>0.507063</td>\n",
       "      <td>34.0</td>\n",
       "      <td>1.625000</td>\n",
       "      <td>0.565217</td>\n",
       "      <td>0.072727</td>\n",
       "      <td>0.016949</td>\n",
       "      <td>0.103862</td>\n",
       "      <td>True</td>\n",
       "    </tr>\n",
       "    <tr>\n",
       "      <th>1</th>\n",
       "      <td>H</td>\n",
       "      <td>1413.0</td>\n",
       "      <td>64.0</td>\n",
       "      <td>20.0</td>\n",
       "      <td>53.0</td>\n",
       "      <td>9.0</td>\n",
       "      <td>28.0</td>\n",
       "      <td>15.0</td>\n",
       "      <td>27.0</td>\n",
       "      <td>6.0</td>\n",
       "      <td>...</td>\n",
       "      <td>0.467153</td>\n",
       "      <td>0.338983</td>\n",
       "      <td>0.394161</td>\n",
       "      <td>47.0</td>\n",
       "      <td>0.642857</td>\n",
       "      <td>0.450000</td>\n",
       "      <td>0.064914</td>\n",
       "      <td>0.033333</td>\n",
       "      <td>0.169697</td>\n",
       "      <td>False</td>\n",
       "    </tr>\n",
       "    <tr>\n",
       "      <th>2</th>\n",
       "      <td>H</td>\n",
       "      <td>1113.0</td>\n",
       "      <td>88.0</td>\n",
       "      <td>33.0</td>\n",
       "      <td>67.0</td>\n",
       "      <td>9.0</td>\n",
       "      <td>28.0</td>\n",
       "      <td>13.0</td>\n",
       "      <td>18.0</td>\n",
       "      <td>12.0</td>\n",
       "      <td>...</td>\n",
       "      <td>0.542445</td>\n",
       "      <td>0.344262</td>\n",
       "      <td>0.140895</td>\n",
       "      <td>37.0</td>\n",
       "      <td>2.272727</td>\n",
       "      <td>0.806452</td>\n",
       "      <td>0.104743</td>\n",
       "      <td>0.083333</td>\n",
       "      <td>0.134187</td>\n",
       "      <td>True</td>\n",
       "    </tr>\n",
       "    <tr>\n",
       "      <th>3</th>\n",
       "      <td>H</td>\n",
       "      <td>1135.0</td>\n",
       "      <td>55.0</td>\n",
       "      <td>18.0</td>\n",
       "      <td>57.0</td>\n",
       "      <td>10.0</td>\n",
       "      <td>25.0</td>\n",
       "      <td>9.0</td>\n",
       "      <td>14.0</td>\n",
       "      <td>11.0</td>\n",
       "      <td>...</td>\n",
       "      <td>0.602457</td>\n",
       "      <td>0.309091</td>\n",
       "      <td>0.317083</td>\n",
       "      <td>35.0</td>\n",
       "      <td>1.176471</td>\n",
       "      <td>0.689655</td>\n",
       "      <td>0.098220</td>\n",
       "      <td>0.145455</td>\n",
       "      <td>0.212301</td>\n",
       "      <td>False</td>\n",
       "    </tr>\n",
       "    <tr>\n",
       "      <th>4</th>\n",
       "      <td>H</td>\n",
       "      <td>1188.0</td>\n",
       "      <td>69.0</td>\n",
       "      <td>25.0</td>\n",
       "      <td>58.0</td>\n",
       "      <td>7.0</td>\n",
       "      <td>17.0</td>\n",
       "      <td>12.0</td>\n",
       "      <td>19.0</td>\n",
       "      <td>12.0</td>\n",
       "      <td>...</td>\n",
       "      <td>0.549055</td>\n",
       "      <td>0.382979</td>\n",
       "      <td>0.234023</td>\n",
       "      <td>34.0</td>\n",
       "      <td>0.578947</td>\n",
       "      <td>0.500000</td>\n",
       "      <td>0.071365</td>\n",
       "      <td>0.066667</td>\n",
       "      <td>0.254863</td>\n",
       "      <td>False</td>\n",
       "    </tr>\n",
       "  </tbody>\n",
       "</table>\n",
       "<p>5 rows × 108 columns</p>\n",
       "</div>"
      ],
      "text/plain": [
       "  w_loc  W_TeamID  W_Score  W_FGM  W_FGA  W_FGM3  W_FGA3  W_FTM  W_FTA  W_OR  \\\n",
       "0     H    1398.0     78.0   23.0   57.0     7.0    20.0   25.0   38.0  16.0   \n",
       "1     H    1413.0     64.0   20.0   53.0     9.0    28.0   15.0   27.0   6.0   \n",
       "2     H    1113.0     88.0   33.0   67.0     9.0    28.0   13.0   18.0  12.0   \n",
       "3     H    1135.0     55.0   18.0   57.0    10.0    25.0    9.0   14.0  11.0   \n",
       "4     H    1188.0     69.0   25.0   58.0     7.0    17.0   12.0   19.0  12.0   \n",
       "\n",
       "   ...  L_Opp_TSpct  L_Opp_FTr  L_Opp_3Pr  L_Opp_TR  L_Opp_ATOr  L_Opp_Ast_%  \\\n",
       "0  ...     0.485331   0.316667   0.507063      34.0    1.625000     0.565217   \n",
       "1  ...     0.467153   0.338983   0.394161      47.0    0.642857     0.450000   \n",
       "2  ...     0.542445   0.344262   0.140895      37.0    2.272727     0.806452   \n",
       "3  ...     0.602457   0.309091   0.317083      35.0    1.176471     0.689655   \n",
       "4  ...     0.549055   0.382979   0.234023      34.0    0.578947     0.500000   \n",
       "\n",
       "   L_Opp_Stl_%  L_Opp_Blk_%  L_Opp_TO_r  fav_win  \n",
       "0     0.072727     0.016949    0.103862     True  \n",
       "1     0.064914     0.033333    0.169697    False  \n",
       "2     0.104743     0.083333    0.134187     True  \n",
       "3     0.098220     0.145455    0.212301    False  \n",
       "4     0.071365     0.066667    0.254863    False  \n",
       "\n",
       "[5 rows x 108 columns]"
      ]
     },
     "execution_count": 6,
     "metadata": {},
     "output_type": "execute_result"
    }
   ],
   "source": [
    "df = pd.read_csv('../data/regularseason17.csv').drop('Unnamed: 0', axis = 1)\n",
    "df.head()"
   ]
  },
  {
   "cell_type": "code",
   "execution_count": 7,
   "metadata": {
    "ExecuteTime": {
     "end_time": "2021-12-09T23:25:07.315437Z",
     "start_time": "2021-12-09T23:25:07.082386Z"
    }
   },
   "outputs": [
    {
     "data": {
      "text/html": [
       "<div>\n",
       "<style scoped>\n",
       "    .dataframe tbody tr th:only-of-type {\n",
       "        vertical-align: middle;\n",
       "    }\n",
       "\n",
       "    .dataframe tbody tr th {\n",
       "        vertical-align: top;\n",
       "    }\n",
       "\n",
       "    .dataframe thead th {\n",
       "        text-align: right;\n",
       "    }\n",
       "</style>\n",
       "<table border=\"1\" class=\"dataframe\">\n",
       "  <thead>\n",
       "    <tr style=\"text-align: right;\">\n",
       "      <th></th>\n",
       "      <th>W_TeamID</th>\n",
       "      <th>W_Score</th>\n",
       "      <th>W_FGM</th>\n",
       "      <th>W_FGA</th>\n",
       "      <th>W_FGM3</th>\n",
       "      <th>W_FGA3</th>\n",
       "      <th>W_FTM</th>\n",
       "      <th>W_FTA</th>\n",
       "      <th>W_OR</th>\n",
       "      <th>W_DR</th>\n",
       "      <th>...</th>\n",
       "      <th>L_Opp_3Pr</th>\n",
       "      <th>L_Opp_TR</th>\n",
       "      <th>L_Opp_ATOr</th>\n",
       "      <th>L_Opp_Ast_%</th>\n",
       "      <th>L_Opp_Stl_%</th>\n",
       "      <th>L_Opp_Blk_%</th>\n",
       "      <th>L_Opp_TO_r</th>\n",
       "      <th>fav_win</th>\n",
       "      <th>w_loc_H</th>\n",
       "      <th>w_loc_N</th>\n",
       "    </tr>\n",
       "  </thead>\n",
       "  <tbody>\n",
       "    <tr>\n",
       "      <th>0</th>\n",
       "      <td>1398.0</td>\n",
       "      <td>78.000000</td>\n",
       "      <td>23.000000</td>\n",
       "      <td>57.000000</td>\n",
       "      <td>7.000000</td>\n",
       "      <td>20.000000</td>\n",
       "      <td>25.000000</td>\n",
       "      <td>38.000000</td>\n",
       "      <td>16.000000</td>\n",
       "      <td>32.000000</td>\n",
       "      <td>...</td>\n",
       "      <td>0.507063</td>\n",
       "      <td>34.000000</td>\n",
       "      <td>1.625000</td>\n",
       "      <td>0.565217</td>\n",
       "      <td>0.072727</td>\n",
       "      <td>0.016949</td>\n",
       "      <td>0.103862</td>\n",
       "      <td>True</td>\n",
       "      <td>1</td>\n",
       "      <td>0</td>\n",
       "    </tr>\n",
       "    <tr>\n",
       "      <th>1</th>\n",
       "      <td>1413.0</td>\n",
       "      <td>64.000000</td>\n",
       "      <td>20.000000</td>\n",
       "      <td>53.000000</td>\n",
       "      <td>9.000000</td>\n",
       "      <td>28.000000</td>\n",
       "      <td>15.000000</td>\n",
       "      <td>27.000000</td>\n",
       "      <td>6.000000</td>\n",
       "      <td>26.000000</td>\n",
       "      <td>...</td>\n",
       "      <td>0.394161</td>\n",
       "      <td>47.000000</td>\n",
       "      <td>0.642857</td>\n",
       "      <td>0.450000</td>\n",
       "      <td>0.064914</td>\n",
       "      <td>0.033333</td>\n",
       "      <td>0.169697</td>\n",
       "      <td>False</td>\n",
       "      <td>1</td>\n",
       "      <td>0</td>\n",
       "    </tr>\n",
       "    <tr>\n",
       "      <th>2</th>\n",
       "      <td>1113.0</td>\n",
       "      <td>88.000000</td>\n",
       "      <td>33.000000</td>\n",
       "      <td>67.000000</td>\n",
       "      <td>9.000000</td>\n",
       "      <td>28.000000</td>\n",
       "      <td>13.000000</td>\n",
       "      <td>18.000000</td>\n",
       "      <td>12.000000</td>\n",
       "      <td>35.000000</td>\n",
       "      <td>...</td>\n",
       "      <td>0.140895</td>\n",
       "      <td>37.000000</td>\n",
       "      <td>2.272727</td>\n",
       "      <td>0.806452</td>\n",
       "      <td>0.104743</td>\n",
       "      <td>0.083333</td>\n",
       "      <td>0.134187</td>\n",
       "      <td>True</td>\n",
       "      <td>1</td>\n",
       "      <td>0</td>\n",
       "    </tr>\n",
       "    <tr>\n",
       "      <th>3</th>\n",
       "      <td>1135.0</td>\n",
       "      <td>55.000000</td>\n",
       "      <td>18.000000</td>\n",
       "      <td>57.000000</td>\n",
       "      <td>10.000000</td>\n",
       "      <td>25.000000</td>\n",
       "      <td>9.000000</td>\n",
       "      <td>14.000000</td>\n",
       "      <td>11.000000</td>\n",
       "      <td>12.000000</td>\n",
       "      <td>...</td>\n",
       "      <td>0.317083</td>\n",
       "      <td>35.000000</td>\n",
       "      <td>1.176471</td>\n",
       "      <td>0.689655</td>\n",
       "      <td>0.098220</td>\n",
       "      <td>0.145455</td>\n",
       "      <td>0.212301</td>\n",
       "      <td>False</td>\n",
       "      <td>1</td>\n",
       "      <td>0</td>\n",
       "    </tr>\n",
       "    <tr>\n",
       "      <th>4</th>\n",
       "      <td>1188.0</td>\n",
       "      <td>69.000000</td>\n",
       "      <td>25.000000</td>\n",
       "      <td>58.000000</td>\n",
       "      <td>7.000000</td>\n",
       "      <td>17.000000</td>\n",
       "      <td>12.000000</td>\n",
       "      <td>19.000000</td>\n",
       "      <td>12.000000</td>\n",
       "      <td>19.000000</td>\n",
       "      <td>...</td>\n",
       "      <td>0.234023</td>\n",
       "      <td>34.000000</td>\n",
       "      <td>0.578947</td>\n",
       "      <td>0.500000</td>\n",
       "      <td>0.071365</td>\n",
       "      <td>0.066667</td>\n",
       "      <td>0.254863</td>\n",
       "      <td>False</td>\n",
       "      <td>1</td>\n",
       "      <td>0</td>\n",
       "    </tr>\n",
       "    <tr>\n",
       "      <th>...</th>\n",
       "      <td>...</td>\n",
       "      <td>...</td>\n",
       "      <td>...</td>\n",
       "      <td>...</td>\n",
       "      <td>...</td>\n",
       "      <td>...</td>\n",
       "      <td>...</td>\n",
       "      <td>...</td>\n",
       "      <td>...</td>\n",
       "      <td>...</td>\n",
       "      <td>...</td>\n",
       "      <td>...</td>\n",
       "      <td>...</td>\n",
       "      <td>...</td>\n",
       "      <td>...</td>\n",
       "      <td>...</td>\n",
       "      <td>...</td>\n",
       "      <td>...</td>\n",
       "      <td>...</td>\n",
       "      <td>...</td>\n",
       "      <td>...</td>\n",
       "    </tr>\n",
       "    <tr>\n",
       "      <th>5179</th>\n",
       "      <td>1276.0</td>\n",
       "      <td>74.911765</td>\n",
       "      <td>26.264706</td>\n",
       "      <td>54.617647</td>\n",
       "      <td>9.352941</td>\n",
       "      <td>24.617647</td>\n",
       "      <td>13.029412</td>\n",
       "      <td>16.823529</td>\n",
       "      <td>7.647059</td>\n",
       "      <td>21.882353</td>\n",
       "      <td>...</td>\n",
       "      <td>0.293235</td>\n",
       "      <td>31.212121</td>\n",
       "      <td>0.762125</td>\n",
       "      <td>0.456432</td>\n",
       "      <td>0.068083</td>\n",
       "      <td>0.053758</td>\n",
       "      <td>0.177341</td>\n",
       "      <td>False</td>\n",
       "      <td>0</td>\n",
       "      <td>1</td>\n",
       "    </tr>\n",
       "    <tr>\n",
       "      <th>5180</th>\n",
       "      <td>1343.0</td>\n",
       "      <td>70.814815</td>\n",
       "      <td>25.296296</td>\n",
       "      <td>56.703704</td>\n",
       "      <td>9.851852</td>\n",
       "      <td>25.962963</td>\n",
       "      <td>10.370370</td>\n",
       "      <td>14.074074</td>\n",
       "      <td>8.074074</td>\n",
       "      <td>24.407407</td>\n",
       "      <td>...</td>\n",
       "      <td>0.340855</td>\n",
       "      <td>33.111111</td>\n",
       "      <td>1.128125</td>\n",
       "      <td>0.516452</td>\n",
       "      <td>0.085103</td>\n",
       "      <td>0.066710</td>\n",
       "      <td>0.149196</td>\n",
       "      <td>True</td>\n",
       "      <td>0</td>\n",
       "      <td>1</td>\n",
       "    </tr>\n",
       "    <tr>\n",
       "      <th>5181</th>\n",
       "      <td>1348.0</td>\n",
       "      <td>73.468750</td>\n",
       "      <td>26.125000</td>\n",
       "      <td>57.718750</td>\n",
       "      <td>6.218750</td>\n",
       "      <td>18.406250</td>\n",
       "      <td>15.000000</td>\n",
       "      <td>22.906250</td>\n",
       "      <td>11.968750</td>\n",
       "      <td>25.500000</td>\n",
       "      <td>...</td>\n",
       "      <td>0.261798</td>\n",
       "      <td>33.696970</td>\n",
       "      <td>0.703854</td>\n",
       "      <td>0.462051</td>\n",
       "      <td>0.068887</td>\n",
       "      <td>0.061522</td>\n",
       "      <td>0.187306</td>\n",
       "      <td>False</td>\n",
       "      <td>0</td>\n",
       "      <td>1</td>\n",
       "    </tr>\n",
       "    <tr>\n",
       "      <th>5182</th>\n",
       "      <td>1374.0</td>\n",
       "      <td>74.636364</td>\n",
       "      <td>26.181818</td>\n",
       "      <td>55.363636</td>\n",
       "      <td>8.090909</td>\n",
       "      <td>20.090909</td>\n",
       "      <td>14.181818</td>\n",
       "      <td>20.393939</td>\n",
       "      <td>12.090909</td>\n",
       "      <td>26.393939</td>\n",
       "      <td>...</td>\n",
       "      <td>0.322491</td>\n",
       "      <td>32.636364</td>\n",
       "      <td>0.788210</td>\n",
       "      <td>0.523948</td>\n",
       "      <td>0.045155</td>\n",
       "      <td>0.050639</td>\n",
       "      <td>0.181741</td>\n",
       "      <td>True</td>\n",
       "      <td>0</td>\n",
       "      <td>1</td>\n",
       "    </tr>\n",
       "    <tr>\n",
       "      <th>5183</th>\n",
       "      <td>1407.0</td>\n",
       "      <td>76.242424</td>\n",
       "      <td>25.575758</td>\n",
       "      <td>56.939394</td>\n",
       "      <td>8.363636</td>\n",
       "      <td>23.181818</td>\n",
       "      <td>16.727273</td>\n",
       "      <td>23.272727</td>\n",
       "      <td>10.545455</td>\n",
       "      <td>25.272727</td>\n",
       "      <td>...</td>\n",
       "      <td>0.307084</td>\n",
       "      <td>33.766667</td>\n",
       "      <td>0.813602</td>\n",
       "      <td>0.477811</td>\n",
       "      <td>0.072451</td>\n",
       "      <td>0.068836</td>\n",
       "      <td>0.175942</td>\n",
       "      <td>True</td>\n",
       "      <td>0</td>\n",
       "      <td>1</td>\n",
       "    </tr>\n",
       "  </tbody>\n",
       "</table>\n",
       "<p>5184 rows × 109 columns</p>\n",
       "</div>"
      ],
      "text/plain": [
       "      W_TeamID    W_Score      W_FGM      W_FGA     W_FGM3     W_FGA3  \\\n",
       "0       1398.0  78.000000  23.000000  57.000000   7.000000  20.000000   \n",
       "1       1413.0  64.000000  20.000000  53.000000   9.000000  28.000000   \n",
       "2       1113.0  88.000000  33.000000  67.000000   9.000000  28.000000   \n",
       "3       1135.0  55.000000  18.000000  57.000000  10.000000  25.000000   \n",
       "4       1188.0  69.000000  25.000000  58.000000   7.000000  17.000000   \n",
       "...        ...        ...        ...        ...        ...        ...   \n",
       "5179    1276.0  74.911765  26.264706  54.617647   9.352941  24.617647   \n",
       "5180    1343.0  70.814815  25.296296  56.703704   9.851852  25.962963   \n",
       "5181    1348.0  73.468750  26.125000  57.718750   6.218750  18.406250   \n",
       "5182    1374.0  74.636364  26.181818  55.363636   8.090909  20.090909   \n",
       "5183    1407.0  76.242424  25.575758  56.939394   8.363636  23.181818   \n",
       "\n",
       "          W_FTM      W_FTA       W_OR       W_DR  ...  L_Opp_3Pr   L_Opp_TR  \\\n",
       "0     25.000000  38.000000  16.000000  32.000000  ...   0.507063  34.000000   \n",
       "1     15.000000  27.000000   6.000000  26.000000  ...   0.394161  47.000000   \n",
       "2     13.000000  18.000000  12.000000  35.000000  ...   0.140895  37.000000   \n",
       "3      9.000000  14.000000  11.000000  12.000000  ...   0.317083  35.000000   \n",
       "4     12.000000  19.000000  12.000000  19.000000  ...   0.234023  34.000000   \n",
       "...         ...        ...        ...        ...  ...        ...        ...   \n",
       "5179  13.029412  16.823529   7.647059  21.882353  ...   0.293235  31.212121   \n",
       "5180  10.370370  14.074074   8.074074  24.407407  ...   0.340855  33.111111   \n",
       "5181  15.000000  22.906250  11.968750  25.500000  ...   0.261798  33.696970   \n",
       "5182  14.181818  20.393939  12.090909  26.393939  ...   0.322491  32.636364   \n",
       "5183  16.727273  23.272727  10.545455  25.272727  ...   0.307084  33.766667   \n",
       "\n",
       "      L_Opp_ATOr  L_Opp_Ast_%  L_Opp_Stl_%  L_Opp_Blk_%  L_Opp_TO_r  fav_win  \\\n",
       "0       1.625000     0.565217     0.072727     0.016949    0.103862     True   \n",
       "1       0.642857     0.450000     0.064914     0.033333    0.169697    False   \n",
       "2       2.272727     0.806452     0.104743     0.083333    0.134187     True   \n",
       "3       1.176471     0.689655     0.098220     0.145455    0.212301    False   \n",
       "4       0.578947     0.500000     0.071365     0.066667    0.254863    False   \n",
       "...          ...          ...          ...          ...         ...      ...   \n",
       "5179    0.762125     0.456432     0.068083     0.053758    0.177341    False   \n",
       "5180    1.128125     0.516452     0.085103     0.066710    0.149196     True   \n",
       "5181    0.703854     0.462051     0.068887     0.061522    0.187306    False   \n",
       "5182    0.788210     0.523948     0.045155     0.050639    0.181741     True   \n",
       "5183    0.813602     0.477811     0.072451     0.068836    0.175942     True   \n",
       "\n",
       "      w_loc_H  w_loc_N  \n",
       "0           1        0  \n",
       "1           1        0  \n",
       "2           1        0  \n",
       "3           1        0  \n",
       "4           1        0  \n",
       "...       ...      ...  \n",
       "5179        0        1  \n",
       "5180        0        1  \n",
       "5181        0        1  \n",
       "5182        0        1  \n",
       "5183        0        1  \n",
       "\n",
       "[5184 rows x 109 columns]"
      ]
     },
     "execution_count": 7,
     "metadata": {},
     "output_type": "execute_result"
    }
   ],
   "source": [
    "df = pd.get_dummies(df, columns=['w_loc'], drop_first=True)\n",
    "df"
   ]
  },
  {
   "cell_type": "code",
   "execution_count": 8,
   "metadata": {
    "ExecuteTime": {
     "end_time": "2021-12-09T23:25:07.465244Z",
     "start_time": "2021-12-09T23:25:07.338952Z"
    }
   },
   "outputs": [
    {
     "data": {
      "text/plain": [
       "((4147, 108), (1037, 108))"
      ]
     },
     "execution_count": 8,
     "metadata": {},
     "output_type": "execute_result"
    }
   ],
   "source": [
    "#train_test_split\n",
    "X = df.drop('fav_win',axis=1)\n",
    "y = df['fav_win']\n",
    "\n",
    "X_train, X_test, y_train, y_test = train_test_split(X, y, test_size=0.2, random_state=42)\n",
    "\n",
    "X_train.shape, X_test.shape"
   ]
  },
  {
   "cell_type": "code",
   "execution_count": 9,
   "metadata": {
    "ExecuteTime": {
     "end_time": "2021-12-09T23:25:07.681902Z",
     "start_time": "2021-12-09T23:25:07.536323Z"
    }
   },
   "outputs": [],
   "source": [
    "ss = StandardScaler()\n",
    "X_train_scaled = ss.fit_transform(X_train)\n",
    "X_test_scaled = ss.transform(X_test)"
   ]
  },
  {
   "cell_type": "code",
   "execution_count": 10,
   "metadata": {
    "ExecuteTime": {
     "end_time": "2021-12-09T23:25:08.046930Z",
     "start_time": "2021-12-09T23:25:08.032648Z"
    }
   },
   "outputs": [],
   "source": [
    "X_train_scaled = pd.DataFrame(X_train_scaled, columns=X_train.columns)\n",
    "X_test_scaled = pd.DataFrame(X_test_scaled, columns=X_test.columns)"
   ]
  },
  {
   "cell_type": "markdown",
   "metadata": {},
   "source": [
    "### Logistic Regression"
   ]
  },
  {
   "cell_type": "code",
   "execution_count": 12,
   "metadata": {
    "ExecuteTime": {
     "end_time": "2021-12-09T23:27:12.367097Z",
     "start_time": "2021-12-09T23:25:49.133157Z"
    }
   },
   "outputs": [],
   "source": [
    "log_feat=feature_select(X_train_scaled,y_train,LogisticRegression,min_features=10)\n",
    "X_train_best_log = X_train_scaled[log_feat]\n",
    "X_test_best_log = X_test_scaled[log_feat]"
   ]
  },
  {
   "cell_type": "code",
   "execution_count": 13,
   "metadata": {
    "ExecuteTime": {
     "end_time": "2021-12-09T23:28:52.300763Z",
     "start_time": "2021-12-09T23:27:12.374884Z"
    },
    "scrolled": false
   },
   "outputs": [
    {
     "name": "stdout",
     "output_type": "stream",
     "text": [
      "Penalty: l2\n",
      "Solver: newton-cg\n",
      "Mean Cross-Val Score: 0.8478486200531924\n",
      "Train Mean Accuracy: 0.8536291294911984\n",
      "Test Mean Accuracy: 0.8601735776277725\n",
      "Recall Score: 0.9434954007884363\n",
      "Precision Score: 0.875609756097561\n",
      "F1 Score: 0.9082858950031626\n"
     ]
    },
    {
     "data": {
      "image/png": "[encoded data removed]",
      "text/plain": [
       "<Figure size 432x288 with 1 Axes>"
      ]
     },
     "metadata": {
      "needs_background": "light"
     },
     "output_type": "display_data"
    },
    {
     "data": {
      "image/png": "[encoded data removed]",
      "text/plain": [
       "<Figure size 432x288 with 2 Axes>"
      ]
     },
     "metadata": {
      "needs_background": "light"
     },
     "output_type": "display_data"
    },
    {
     "data": {
      "image/png": "[encoded data removed]",
      "text/plain": [
       "<Figure size 432x288 with 2 Axes>"
      ]
     },
     "metadata": {
      "needs_background": "light"
     },
     "output_type": "display_data"
    }
   ],
   "source": [
    "log_reg_prob=logreg(X_train_best_log, X_test_best_log, y_train, y_test)"
   ]
  },
  {
   "cell_type": "code",
   "execution_count": 19,
   "metadata": {
    "ExecuteTime": {
     "end_time": "2021-12-09T23:31:31.871815Z",
     "start_time": "2021-12-09T23:31:31.435797Z"
    }
   },
   "outputs": [
    {
     "data": {
      "image/png": "[encoded data removed]",
      "text/plain": [
       "<Figure size 432x288 with 1 Axes>"
      ]
     },
     "metadata": {
      "needs_background": "light"
     },
     "output_type": "display_data"
    }
   ],
   "source": [
    "plt.hist(log_reg_prob,bins=25,label='fav');"
   ]
  },
  {
   "cell_type": "code",
   "execution_count": 26,
   "metadata": {
    "ExecuteTime": {
     "end_time": "2021-12-09T23:35:05.397049Z",
     "start_time": "2021-12-09T23:35:05.034563Z"
    }
   },
   "outputs": [
    {
     "data": {
      "image/png": "[encoded data removed]",
      "text/plain": [
       "<Figure size 432x288 with 1 Axes>"
      ]
     },
     "metadata": {
      "needs_background": "light"
     },
     "output_type": "display_data"
    }
   ],
   "source": [
    "plt.hist(log_reg_prob[:,0],bins=25);"
   ]
  },
  {
   "cell_type": "code",
   "execution_count": 45,
   "metadata": {
    "ExecuteTime": {
     "end_time": "2021-12-09T23:40:56.930400Z",
     "start_time": "2021-12-09T23:40:56.523785Z"
    }
   },
   "outputs": [
    {
     "data": {
      "image/png": "[encoded data removed]",
      "text/plain": [
       "<Figure size 432x288 with 1 Axes>"
      ]
     },
     "metadata": {
      "needs_background": "light"
     },
     "output_type": "display_data"
    }
   ],
   "source": [
    "plt.hist(log_reg_prob[log_reg_prob[:,1]>.5],bins=25);"
   ]
  },
  {
   "cell_type": "code",
   "execution_count": 46,
   "metadata": {
    "ExecuteTime": {
     "end_time": "2021-12-09T23:41:00.582404Z",
     "start_time": "2021-12-09T23:41:00.132346Z"
    }
   },
   "outputs": [
    {
     "data": {
      "image/png": "[encoded data removed]",
      "text/plain": [
       "<Figure size 432x288 with 1 Axes>"
      ]
     },
     "metadata": {
      "needs_background": "light"
     },
     "output_type": "display_data"
    }
   ],
   "source": [
    "plt.hist(log_reg_prob[log_reg_prob[:,0]<.5],bins=25);"
   ]
  },
  {
   "cell_type": "code",
   "execution_count": 49,
   "metadata": {
    "ExecuteTime": {
     "end_time": "2021-12-09T23:42:12.704354Z",
     "start_time": "2021-12-09T23:42:12.693286Z"
    }
   },
   "outputs": [],
   "source": [
    "dog_win = log_reg_prob[:,0]\n",
    "fav_win = log_reg_prob[:,1]"
   ]
  },
  {
   "cell_type": "code",
   "execution_count": 61,
   "metadata": {
    "ExecuteTime": {
     "end_time": "2021-12-09T23:49:06.375350Z",
     "start_time": "2021-12-09T23:49:06.056796Z"
    },
    "scrolled": true
   },
   "outputs": [
    {
     "data": {
      "image/png": "[encoded data removed]",
      "text/plain": [
       "<Figure size 432x288 with 1 Axes>"
      ]
     },
     "metadata": {
      "needs_background": "light"
     },
     "output_type": "display_data"
    }
   ],
   "source": [
    "y=np.linspace(0,1,len(dog_win[dog_win>.5]))\n",
    "plt.scatter(dog_win[dog_win>.5],y);"
   ]
  },
  {
   "cell_type": "code",
   "execution_count": 56,
   "metadata": {
    "ExecuteTime": {
     "end_time": "2021-12-09T23:44:26.400012Z",
     "start_time": "2021-12-09T23:44:25.812622Z"
    }
   },
   "outputs": [
    {
     "data": {
      "image/png": "[encoded data removed]",
      "text/plain": [
       "<Figure size 432x288 with 1 Axes>"
      ]
     },
     "metadata": {
      "needs_background": "light"
     },
     "output_type": "display_data"
    }
   ],
   "source": [
    "plt.hist(fav_win[fav_win>.5]);"
   ]
  },
  {
   "cell_type": "markdown",
   "metadata": {},
   "source": [
    "### KNN"
   ]
  },
  {
   "cell_type": "code",
   "execution_count": null,
   "metadata": {
    "ExecuteTime": {
     "end_time": "2021-12-09T23:13:59.283444Z",
     "start_time": "2021-12-09T23:12:21.964Z"
    }
   },
   "outputs": [],
   "source": [
    "knn(X_train_scaled, X_test_scaled, y_train, y_test)"
   ]
  },
  {
   "cell_type": "markdown",
   "metadata": {},
   "source": [
    "### Decision Tree"
   ]
  },
  {
   "cell_type": "code",
   "execution_count": null,
   "metadata": {
    "ExecuteTime": {
     "end_time": "2021-12-09T23:13:59.285868Z",
     "start_time": "2021-12-09T23:12:21.967Z"
    }
   },
   "outputs": [],
   "source": [
    "dtree_feats=feature_select(X_train_scaled,y_train,DecisionTreeClassifier,min_features=10)"
   ]
  },
  {
   "cell_type": "code",
   "execution_count": null,
   "metadata": {
    "ExecuteTime": {
     "end_time": "2021-12-09T23:13:59.289440Z",
     "start_time": "2021-12-09T23:12:21.971Z"
    }
   },
   "outputs": [],
   "source": [
    "X_train_best_dtree=X_train[dtree_feats]\n",
    "X_test_best_dtree=X_test[dtree_feats]"
   ]
  },
  {
   "cell_type": "code",
   "execution_count": null,
   "metadata": {
    "ExecuteTime": {
     "end_time": "2021-12-09T23:13:59.292164Z",
     "start_time": "2021-12-09T23:12:21.999Z"
    }
   },
   "outputs": [],
   "source": [
    "dtree(X_train_best_dtree, X_test_best_dtree, y_train, y_test)"
   ]
  },
  {
   "cell_type": "markdown",
   "metadata": {},
   "source": [
    "### Random Forest"
   ]
  },
  {
   "cell_type": "code",
   "execution_count": null,
   "metadata": {
    "ExecuteTime": {
     "end_time": "2021-12-09T23:13:59.294679Z",
     "start_time": "2021-12-09T23:12:22.034Z"
    }
   },
   "outputs": [],
   "source": [
    "random_forest_feat=feature_select(X_train_scaled,y_train,RandomForestClassifier,min_features=10)\n",
    "X_train_best_rforest=X_train_scaled[random_forest_feat]\n",
    "X_test_best_rforest=X_test_scaled[random_forest_feat]"
   ]
  },
  {
   "cell_type": "code",
   "execution_count": null,
   "metadata": {
    "ExecuteTime": {
     "end_time": "2021-12-09T23:13:59.299858Z",
     "start_time": "2021-12-09T23:12:22.062Z"
    }
   },
   "outputs": [],
   "source": [
    "random_forest(X_train, X_test, y_train, y_test, cv=5)"
   ]
  },
  {
   "cell_type": "markdown",
   "metadata": {},
   "source": [
    "### Bagging Classifier"
   ]
  },
  {
   "cell_type": "code",
   "execution_count": null,
   "metadata": {
    "ExecuteTime": {
     "end_time": "2021-12-09T23:13:59.304206Z",
     "start_time": "2021-12-09T23:12:22.067Z"
    }
   },
   "outputs": [],
   "source": [
    "bagged(X_train, X_test, y_train, y_test, cv=5)"
   ]
  },
  {
   "cell_type": "markdown",
   "metadata": {},
   "source": [
    "### XGboost"
   ]
  },
  {
   "cell_type": "code",
   "execution_count": null,
   "metadata": {
    "ExecuteTime": {
     "end_time": "2021-12-09T23:13:59.311382Z",
     "start_time": "2021-12-09T23:12:22.071Z"
    }
   },
   "outputs": [],
   "source": [
    "xgboost(X_train, X_test, y_train, y_test, cv=5)"
   ]
  }
 ],
 "metadata": {
  "kernelspec": {
   "display_name": "Python (learn-env)",
   "language": "python",
   "name": "learn-env"
  },
  "language_info": {
   "codemirror_mode": {
    "name": "ipython",
    "version": 3
   },
   "file_extension": ".py",
   "mimetype": "text/x-python",
   "name": "python",
   "nbconvert_exporter": "python",
   "pygments_lexer": "ipython3",
   "version": "3.8.5"
  }
 },
 "nbformat": 4,
 "nbformat_minor": 4
}
