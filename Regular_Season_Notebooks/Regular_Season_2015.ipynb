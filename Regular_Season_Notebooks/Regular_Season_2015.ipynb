{
 "cells": [
  {
   "cell_type": "code",
   "execution_count": 2,
   "metadata": {
    "ExecuteTime": {
     "end_time": "2021-12-09T01:42:15.499965Z",
     "start_time": "2021-12-09T01:42:15.488651Z"
    }
   },
   "outputs": [],
   "source": [
    "# Import the relevant packages\n",
    "import pandas as pd\n",
    "import numpy as np\n",
    "import matplotlib.pyplot as plt\n",
    "from sklearn.linear_model import LogisticRegression\n",
    "from sklearn.model_selection import cross_val_score, train_test_split,GridSearchCV\n",
    "from sklearn.metrics import plot_confusion_matrix, plot_roc_curve, accuracy_score, \\\n",
    "recall_score, precision_score, f1_score\n",
    "from sklearn.neighbors import KNeighborsClassifier\n",
    "from sklearn.preprocessing import StandardScaler\n",
    "from sklearn.tree import DecisionTreeClassifier, plot_tree\n",
    "from sklearn.ensemble import BaggingClassifier, RandomForestClassifier\n",
    "from sklearn.datasets import load_iris\n",
    "from sklearn.ensemble import AdaBoostClassifier, GradientBoostingClassifier\n",
    "from xgboost import XGBClassifier\n",
    "import statsmodels.api as sm\n",
    "from sklearn.feature_selection import RFECV\n",
    "\n",
    "import warnings\n",
    "warnings.filterwarnings(\"ignore\")"
   ]
  },
  {
   "cell_type": "code",
   "execution_count": 3,
   "metadata": {
    "ExecuteTime": {
     "end_time": "2021-12-09T01:42:15.513345Z",
     "start_time": "2021-12-09T01:42:15.505732Z"
    }
   },
   "outputs": [],
   "source": [
    "#Import functions notebook and load data set here\n",
    "import sys\n",
    "sys.path.append(\"../\")\n",
    "from function_notebook_1 import *"
   ]
  },
  {
   "cell_type": "code",
   "execution_count": 4,
   "metadata": {
    "ExecuteTime": {
     "end_time": "2021-12-09T01:42:15.822794Z",
     "start_time": "2021-12-09T01:42:15.519846Z"
    }
   },
   "outputs": [
    {
     "data": {
      "text/html": [
       "<div>\n",
       "<style scoped>\n",
       "    .dataframe tbody tr th:only-of-type {\n",
       "        vertical-align: middle;\n",
       "    }\n",
       "\n",
       "    .dataframe tbody tr th {\n",
       "        vertical-align: top;\n",
       "    }\n",
       "\n",
       "    .dataframe thead th {\n",
       "        text-align: right;\n",
       "    }\n",
       "</style>\n",
       "<table border=\"1\" class=\"dataframe\">\n",
       "  <thead>\n",
       "    <tr style=\"text-align: right;\">\n",
       "      <th></th>\n",
       "      <th>w_loc</th>\n",
       "      <th>W_TeamID</th>\n",
       "      <th>W_Score</th>\n",
       "      <th>W_FGM</th>\n",
       "      <th>W_FGA</th>\n",
       "      <th>W_FGM3</th>\n",
       "      <th>W_FGA3</th>\n",
       "      <th>W_FTM</th>\n",
       "      <th>W_FTA</th>\n",
       "      <th>W_OR</th>\n",
       "      <th>...</th>\n",
       "      <th>L_Opp_TSpct</th>\n",
       "      <th>L_Opp_FTr</th>\n",
       "      <th>L_Opp_3Pr</th>\n",
       "      <th>L_Opp_TR</th>\n",
       "      <th>L_Opp_ATOr</th>\n",
       "      <th>L_Opp_Ast_%</th>\n",
       "      <th>L_Opp_Stl_%</th>\n",
       "      <th>L_Opp_Blk_%</th>\n",
       "      <th>L_Opp_TO_r</th>\n",
       "      <th>fav_win</th>\n",
       "    </tr>\n",
       "  </thead>\n",
       "  <tbody>\n",
       "    <tr>\n",
       "      <th>0</th>\n",
       "      <td>N</td>\n",
       "      <td>1102.0</td>\n",
       "      <td>78.0</td>\n",
       "      <td>31.0</td>\n",
       "      <td>62.0</td>\n",
       "      <td>6.0</td>\n",
       "      <td>19.0</td>\n",
       "      <td>10.0</td>\n",
       "      <td>15.0</td>\n",
       "      <td>15.0</td>\n",
       "      <td>...</td>\n",
       "      <td>0.550918</td>\n",
       "      <td>0.068966</td>\n",
       "      <td>0.484140</td>\n",
       "      <td>31.0</td>\n",
       "      <td>0.923077</td>\n",
       "      <td>0.461538</td>\n",
       "      <td>0.047281</td>\n",
       "      <td>0.095238</td>\n",
       "      <td>0.178326</td>\n",
       "      <td>True</td>\n",
       "    </tr>\n",
       "    <tr>\n",
       "      <th>1</th>\n",
       "      <td>N</td>\n",
       "      <td>1119.0</td>\n",
       "      <td>84.0</td>\n",
       "      <td>30.0</td>\n",
       "      <td>61.0</td>\n",
       "      <td>13.0</td>\n",
       "      <td>25.0</td>\n",
       "      <td>11.0</td>\n",
       "      <td>17.0</td>\n",
       "      <td>17.0</td>\n",
       "      <td>...</td>\n",
       "      <td>0.619638</td>\n",
       "      <td>0.523810</td>\n",
       "      <td>0.076263</td>\n",
       "      <td>22.0</td>\n",
       "      <td>0.909091</td>\n",
       "      <td>0.434783</td>\n",
       "      <td>0.082305</td>\n",
       "      <td>0.017241</td>\n",
       "      <td>0.173365</td>\n",
       "      <td>True</td>\n",
       "    </tr>\n",
       "    <tr>\n",
       "      <th>2</th>\n",
       "      <td>A</td>\n",
       "      <td>1129.0</td>\n",
       "      <td>81.0</td>\n",
       "      <td>23.0</td>\n",
       "      <td>49.0</td>\n",
       "      <td>6.0</td>\n",
       "      <td>17.0</td>\n",
       "      <td>29.0</td>\n",
       "      <td>44.0</td>\n",
       "      <td>10.0</td>\n",
       "      <td>...</td>\n",
       "      <td>0.460251</td>\n",
       "      <td>0.181818</td>\n",
       "      <td>0.278940</td>\n",
       "      <td>28.0</td>\n",
       "      <td>5.333333</td>\n",
       "      <td>0.571429</td>\n",
       "      <td>0.092654</td>\n",
       "      <td>0.056604</td>\n",
       "      <td>0.040161</td>\n",
       "      <td>True</td>\n",
       "    </tr>\n",
       "    <tr>\n",
       "      <th>3</th>\n",
       "      <td>A</td>\n",
       "      <td>1181.0</td>\n",
       "      <td>113.0</td>\n",
       "      <td>42.0</td>\n",
       "      <td>69.0</td>\n",
       "      <td>16.0</td>\n",
       "      <td>31.0</td>\n",
       "      <td>13.0</td>\n",
       "      <td>16.0</td>\n",
       "      <td>17.0</td>\n",
       "      <td>...</td>\n",
       "      <td>0.474398</td>\n",
       "      <td>0.436364</td>\n",
       "      <td>0.225904</td>\n",
       "      <td>35.0</td>\n",
       "      <td>1.500000</td>\n",
       "      <td>0.631579</td>\n",
       "      <td>0.039591</td>\n",
       "      <td>0.036364</td>\n",
       "      <td>0.107527</td>\n",
       "      <td>True</td>\n",
       "    </tr>\n",
       "    <tr>\n",
       "      <th>4</th>\n",
       "      <td>H</td>\n",
       "      <td>1218.0</td>\n",
       "      <td>85.0</td>\n",
       "      <td>31.0</td>\n",
       "      <td>67.0</td>\n",
       "      <td>8.0</td>\n",
       "      <td>24.0</td>\n",
       "      <td>15.0</td>\n",
       "      <td>20.0</td>\n",
       "      <td>18.0</td>\n",
       "      <td>...</td>\n",
       "      <td>0.566893</td>\n",
       "      <td>0.438356</td>\n",
       "      <td>0.272109</td>\n",
       "      <td>31.0</td>\n",
       "      <td>1.272727</td>\n",
       "      <td>0.388889</td>\n",
       "      <td>0.055646</td>\n",
       "      <td>0.053333</td>\n",
       "      <td>0.110887</td>\n",
       "      <td>True</td>\n",
       "    </tr>\n",
       "  </tbody>\n",
       "</table>\n",
       "<p>5 rows × 108 columns</p>\n",
       "</div>"
      ],
      "text/plain": [
       "  w_loc  W_TeamID  W_Score  W_FGM  W_FGA  W_FGM3  W_FGA3  W_FTM  W_FTA  W_OR  \\\n",
       "0     N    1102.0     78.0   31.0   62.0     6.0    19.0   10.0   15.0  15.0   \n",
       "1     N    1119.0     84.0   30.0   61.0    13.0    25.0   11.0   17.0  17.0   \n",
       "2     A    1129.0     81.0   23.0   49.0     6.0    17.0   29.0   44.0  10.0   \n",
       "3     A    1181.0    113.0   42.0   69.0    16.0    31.0   13.0   16.0  17.0   \n",
       "4     H    1218.0     85.0   31.0   67.0     8.0    24.0   15.0   20.0  18.0   \n",
       "\n",
       "   ...  L_Opp_TSpct  L_Opp_FTr  L_Opp_3Pr  L_Opp_TR  L_Opp_ATOr  L_Opp_Ast_%  \\\n",
       "0  ...     0.550918   0.068966   0.484140      31.0    0.923077     0.461538   \n",
       "1  ...     0.619638   0.523810   0.076263      22.0    0.909091     0.434783   \n",
       "2  ...     0.460251   0.181818   0.278940      28.0    5.333333     0.571429   \n",
       "3  ...     0.474398   0.436364   0.225904      35.0    1.500000     0.631579   \n",
       "4  ...     0.566893   0.438356   0.272109      31.0    1.272727     0.388889   \n",
       "\n",
       "   L_Opp_Stl_%  L_Opp_Blk_%  L_Opp_TO_r  fav_win  \n",
       "0     0.047281     0.095238    0.178326     True  \n",
       "1     0.082305     0.017241    0.173365     True  \n",
       "2     0.092654     0.056604    0.040161     True  \n",
       "3     0.039591     0.036364    0.107527     True  \n",
       "4     0.055646     0.053333    0.110887     True  \n",
       "\n",
       "[5 rows x 108 columns]"
      ]
     },
     "execution_count": 4,
     "metadata": {},
     "output_type": "execute_result"
    }
   ],
   "source": [
    "df = pd.read_csv('../data/regularseason15.csv').drop('Unnamed: 0', axis = 1)\n",
    "df.head()"
   ]
  },
  {
   "cell_type": "code",
   "execution_count": 5,
   "metadata": {
    "ExecuteTime": {
     "end_time": "2021-12-09T01:42:15.903930Z",
     "start_time": "2021-12-09T01:42:15.827384Z"
    }
   },
   "outputs": [
    {
     "data": {
      "text/html": [
       "<div>\n",
       "<style scoped>\n",
       "    .dataframe tbody tr th:only-of-type {\n",
       "        vertical-align: middle;\n",
       "    }\n",
       "\n",
       "    .dataframe tbody tr th {\n",
       "        vertical-align: top;\n",
       "    }\n",
       "\n",
       "    .dataframe thead th {\n",
       "        text-align: right;\n",
       "    }\n",
       "</style>\n",
       "<table border=\"1\" class=\"dataframe\">\n",
       "  <thead>\n",
       "    <tr style=\"text-align: right;\">\n",
       "      <th></th>\n",
       "      <th>W_TeamID</th>\n",
       "      <th>W_Score</th>\n",
       "      <th>W_FGM</th>\n",
       "      <th>W_FGA</th>\n",
       "      <th>W_FGM3</th>\n",
       "      <th>W_FGA3</th>\n",
       "      <th>W_FTM</th>\n",
       "      <th>W_FTA</th>\n",
       "      <th>W_OR</th>\n",
       "      <th>W_DR</th>\n",
       "      <th>...</th>\n",
       "      <th>L_Opp_3Pr</th>\n",
       "      <th>L_Opp_TR</th>\n",
       "      <th>L_Opp_ATOr</th>\n",
       "      <th>L_Opp_Ast_%</th>\n",
       "      <th>L_Opp_Stl_%</th>\n",
       "      <th>L_Opp_Blk_%</th>\n",
       "      <th>L_Opp_TO_r</th>\n",
       "      <th>fav_win</th>\n",
       "      <th>w_loc_H</th>\n",
       "      <th>w_loc_N</th>\n",
       "    </tr>\n",
       "  </thead>\n",
       "  <tbody>\n",
       "    <tr>\n",
       "      <th>0</th>\n",
       "      <td>1102.0</td>\n",
       "      <td>78.000000</td>\n",
       "      <td>31.000000</td>\n",
       "      <td>62.000000</td>\n",
       "      <td>6.000000</td>\n",
       "      <td>19.000000</td>\n",
       "      <td>10.000000</td>\n",
       "      <td>15.000000</td>\n",
       "      <td>15.000000</td>\n",
       "      <td>17.000000</td>\n",
       "      <td>...</td>\n",
       "      <td>0.484140</td>\n",
       "      <td>31.000000</td>\n",
       "      <td>0.923077</td>\n",
       "      <td>0.461538</td>\n",
       "      <td>0.047281</td>\n",
       "      <td>0.095238</td>\n",
       "      <td>0.178326</td>\n",
       "      <td>True</td>\n",
       "      <td>0</td>\n",
       "      <td>1</td>\n",
       "    </tr>\n",
       "    <tr>\n",
       "      <th>1</th>\n",
       "      <td>1119.0</td>\n",
       "      <td>84.000000</td>\n",
       "      <td>30.000000</td>\n",
       "      <td>61.000000</td>\n",
       "      <td>13.000000</td>\n",
       "      <td>25.000000</td>\n",
       "      <td>11.000000</td>\n",
       "      <td>17.000000</td>\n",
       "      <td>17.000000</td>\n",
       "      <td>20.000000</td>\n",
       "      <td>...</td>\n",
       "      <td>0.076263</td>\n",
       "      <td>22.000000</td>\n",
       "      <td>0.909091</td>\n",
       "      <td>0.434783</td>\n",
       "      <td>0.082305</td>\n",
       "      <td>0.017241</td>\n",
       "      <td>0.173365</td>\n",
       "      <td>True</td>\n",
       "      <td>0</td>\n",
       "      <td>1</td>\n",
       "    </tr>\n",
       "    <tr>\n",
       "      <th>2</th>\n",
       "      <td>1129.0</td>\n",
       "      <td>81.000000</td>\n",
       "      <td>23.000000</td>\n",
       "      <td>49.000000</td>\n",
       "      <td>6.000000</td>\n",
       "      <td>17.000000</td>\n",
       "      <td>29.000000</td>\n",
       "      <td>44.000000</td>\n",
       "      <td>10.000000</td>\n",
       "      <td>26.000000</td>\n",
       "      <td>...</td>\n",
       "      <td>0.278940</td>\n",
       "      <td>28.000000</td>\n",
       "      <td>5.333333</td>\n",
       "      <td>0.571429</td>\n",
       "      <td>0.092654</td>\n",
       "      <td>0.056604</td>\n",
       "      <td>0.040161</td>\n",
       "      <td>True</td>\n",
       "      <td>0</td>\n",
       "      <td>0</td>\n",
       "    </tr>\n",
       "    <tr>\n",
       "      <th>3</th>\n",
       "      <td>1181.0</td>\n",
       "      <td>113.000000</td>\n",
       "      <td>42.000000</td>\n",
       "      <td>69.000000</td>\n",
       "      <td>16.000000</td>\n",
       "      <td>31.000000</td>\n",
       "      <td>13.000000</td>\n",
       "      <td>16.000000</td>\n",
       "      <td>17.000000</td>\n",
       "      <td>29.000000</td>\n",
       "      <td>...</td>\n",
       "      <td>0.225904</td>\n",
       "      <td>35.000000</td>\n",
       "      <td>1.500000</td>\n",
       "      <td>0.631579</td>\n",
       "      <td>0.039591</td>\n",
       "      <td>0.036364</td>\n",
       "      <td>0.107527</td>\n",
       "      <td>True</td>\n",
       "      <td>0</td>\n",
       "      <td>0</td>\n",
       "    </tr>\n",
       "    <tr>\n",
       "      <th>4</th>\n",
       "      <td>1218.0</td>\n",
       "      <td>85.000000</td>\n",
       "      <td>31.000000</td>\n",
       "      <td>67.000000</td>\n",
       "      <td>8.000000</td>\n",
       "      <td>24.000000</td>\n",
       "      <td>15.000000</td>\n",
       "      <td>20.000000</td>\n",
       "      <td>18.000000</td>\n",
       "      <td>28.000000</td>\n",
       "      <td>...</td>\n",
       "      <td>0.272109</td>\n",
       "      <td>31.000000</td>\n",
       "      <td>1.272727</td>\n",
       "      <td>0.388889</td>\n",
       "      <td>0.055646</td>\n",
       "      <td>0.053333</td>\n",
       "      <td>0.110887</td>\n",
       "      <td>True</td>\n",
       "      <td>1</td>\n",
       "      <td>0</td>\n",
       "    </tr>\n",
       "    <tr>\n",
       "      <th>...</th>\n",
       "      <td>...</td>\n",
       "      <td>...</td>\n",
       "      <td>...</td>\n",
       "      <td>...</td>\n",
       "      <td>...</td>\n",
       "      <td>...</td>\n",
       "      <td>...</td>\n",
       "      <td>...</td>\n",
       "      <td>...</td>\n",
       "      <td>...</td>\n",
       "      <td>...</td>\n",
       "      <td>...</td>\n",
       "      <td>...</td>\n",
       "      <td>...</td>\n",
       "      <td>...</td>\n",
       "      <td>...</td>\n",
       "      <td>...</td>\n",
       "      <td>...</td>\n",
       "      <td>...</td>\n",
       "      <td>...</td>\n",
       "      <td>...</td>\n",
       "    </tr>\n",
       "    <tr>\n",
       "      <th>5144</th>\n",
       "      <td>1209.0</td>\n",
       "      <td>71.677419</td>\n",
       "      <td>25.774194</td>\n",
       "      <td>53.806452</td>\n",
       "      <td>4.774194</td>\n",
       "      <td>14.774194</td>\n",
       "      <td>15.354839</td>\n",
       "      <td>20.903226</td>\n",
       "      <td>9.290323</td>\n",
       "      <td>23.322581</td>\n",
       "      <td>...</td>\n",
       "      <td>0.323617</td>\n",
       "      <td>35.925926</td>\n",
       "      <td>0.748718</td>\n",
       "      <td>0.494078</td>\n",
       "      <td>0.067551</td>\n",
       "      <td>0.051896</td>\n",
       "      <td>0.188315</td>\n",
       "      <td>True</td>\n",
       "      <td>0</td>\n",
       "      <td>1</td>\n",
       "    </tr>\n",
       "    <tr>\n",
       "      <th>5145</th>\n",
       "      <td>1246.0</td>\n",
       "      <td>74.818182</td>\n",
       "      <td>26.000000</td>\n",
       "      <td>55.606061</td>\n",
       "      <td>5.393939</td>\n",
       "      <td>15.666667</td>\n",
       "      <td>17.424242</td>\n",
       "      <td>24.181818</td>\n",
       "      <td>12.909091</td>\n",
       "      <td>25.424242</td>\n",
       "      <td>...</td>\n",
       "      <td>0.267057</td>\n",
       "      <td>35.424242</td>\n",
       "      <td>0.775472</td>\n",
       "      <td>0.514393</td>\n",
       "      <td>0.066270</td>\n",
       "      <td>0.046328</td>\n",
       "      <td>0.194013</td>\n",
       "      <td>True</td>\n",
       "      <td>0</td>\n",
       "      <td>1</td>\n",
       "    </tr>\n",
       "    <tr>\n",
       "      <th>5146</th>\n",
       "      <td>1374.0</td>\n",
       "      <td>69.645161</td>\n",
       "      <td>24.870968</td>\n",
       "      <td>51.096774</td>\n",
       "      <td>4.322581</td>\n",
       "      <td>11.806452</td>\n",
       "      <td>15.580645</td>\n",
       "      <td>22.258065</td>\n",
       "      <td>11.129032</td>\n",
       "      <td>25.032258</td>\n",
       "      <td>...</td>\n",
       "      <td>0.297412</td>\n",
       "      <td>32.363636</td>\n",
       "      <td>0.972752</td>\n",
       "      <td>0.515152</td>\n",
       "      <td>0.078420</td>\n",
       "      <td>0.070431</td>\n",
       "      <td>0.153054</td>\n",
       "      <td>True</td>\n",
       "      <td>0</td>\n",
       "      <td>1</td>\n",
       "    </tr>\n",
       "    <tr>\n",
       "      <th>5147</th>\n",
       "      <td>1433.0</td>\n",
       "      <td>72.529412</td>\n",
       "      <td>24.941176</td>\n",
       "      <td>59.411765</td>\n",
       "      <td>8.029412</td>\n",
       "      <td>23.558824</td>\n",
       "      <td>14.617647</td>\n",
       "      <td>22.264706</td>\n",
       "      <td>12.382353</td>\n",
       "      <td>22.911765</td>\n",
       "      <td>...</td>\n",
       "      <td>0.282011</td>\n",
       "      <td>32.406250</td>\n",
       "      <td>0.887356</td>\n",
       "      <td>0.545969</td>\n",
       "      <td>0.073172</td>\n",
       "      <td>0.073482</td>\n",
       "      <td>0.184010</td>\n",
       "      <td>True</td>\n",
       "      <td>0</td>\n",
       "      <td>1</td>\n",
       "    </tr>\n",
       "    <tr>\n",
       "      <th>5148</th>\n",
       "      <td>1458.0</td>\n",
       "      <td>71.636364</td>\n",
       "      <td>25.303030</td>\n",
       "      <td>52.757576</td>\n",
       "      <td>6.787879</td>\n",
       "      <td>19.303030</td>\n",
       "      <td>14.242424</td>\n",
       "      <td>18.727273</td>\n",
       "      <td>9.636364</td>\n",
       "      <td>24.363636</td>\n",
       "      <td>...</td>\n",
       "      <td>0.295874</td>\n",
       "      <td>31.121212</td>\n",
       "      <td>0.948509</td>\n",
       "      <td>0.497866</td>\n",
       "      <td>0.074016</td>\n",
       "      <td>0.048413</td>\n",
       "      <td>0.150345</td>\n",
       "      <td>True</td>\n",
       "      <td>0</td>\n",
       "      <td>1</td>\n",
       "    </tr>\n",
       "  </tbody>\n",
       "</table>\n",
       "<p>5149 rows × 109 columns</p>\n",
       "</div>"
      ],
      "text/plain": [
       "      W_TeamID     W_Score      W_FGM      W_FGA     W_FGM3     W_FGA3  \\\n",
       "0       1102.0   78.000000  31.000000  62.000000   6.000000  19.000000   \n",
       "1       1119.0   84.000000  30.000000  61.000000  13.000000  25.000000   \n",
       "2       1129.0   81.000000  23.000000  49.000000   6.000000  17.000000   \n",
       "3       1181.0  113.000000  42.000000  69.000000  16.000000  31.000000   \n",
       "4       1218.0   85.000000  31.000000  67.000000   8.000000  24.000000   \n",
       "...        ...         ...        ...        ...        ...        ...   \n",
       "5144    1209.0   71.677419  25.774194  53.806452   4.774194  14.774194   \n",
       "5145    1246.0   74.818182  26.000000  55.606061   5.393939  15.666667   \n",
       "5146    1374.0   69.645161  24.870968  51.096774   4.322581  11.806452   \n",
       "5147    1433.0   72.529412  24.941176  59.411765   8.029412  23.558824   \n",
       "5148    1458.0   71.636364  25.303030  52.757576   6.787879  19.303030   \n",
       "\n",
       "          W_FTM      W_FTA       W_OR       W_DR  ...  L_Opp_3Pr   L_Opp_TR  \\\n",
       "0     10.000000  15.000000  15.000000  17.000000  ...   0.484140  31.000000   \n",
       "1     11.000000  17.000000  17.000000  20.000000  ...   0.076263  22.000000   \n",
       "2     29.000000  44.000000  10.000000  26.000000  ...   0.278940  28.000000   \n",
       "3     13.000000  16.000000  17.000000  29.000000  ...   0.225904  35.000000   \n",
       "4     15.000000  20.000000  18.000000  28.000000  ...   0.272109  31.000000   \n",
       "...         ...        ...        ...        ...  ...        ...        ...   \n",
       "5144  15.354839  20.903226   9.290323  23.322581  ...   0.323617  35.925926   \n",
       "5145  17.424242  24.181818  12.909091  25.424242  ...   0.267057  35.424242   \n",
       "5146  15.580645  22.258065  11.129032  25.032258  ...   0.297412  32.363636   \n",
       "5147  14.617647  22.264706  12.382353  22.911765  ...   0.282011  32.406250   \n",
       "5148  14.242424  18.727273   9.636364  24.363636  ...   0.295874  31.121212   \n",
       "\n",
       "      L_Opp_ATOr  L_Opp_Ast_%  L_Opp_Stl_%  L_Opp_Blk_%  L_Opp_TO_r  fav_win  \\\n",
       "0       0.923077     0.461538     0.047281     0.095238    0.178326     True   \n",
       "1       0.909091     0.434783     0.082305     0.017241    0.173365     True   \n",
       "2       5.333333     0.571429     0.092654     0.056604    0.040161     True   \n",
       "3       1.500000     0.631579     0.039591     0.036364    0.107527     True   \n",
       "4       1.272727     0.388889     0.055646     0.053333    0.110887     True   \n",
       "...          ...          ...          ...          ...         ...      ...   \n",
       "5144    0.748718     0.494078     0.067551     0.051896    0.188315     True   \n",
       "5145    0.775472     0.514393     0.066270     0.046328    0.194013     True   \n",
       "5146    0.972752     0.515152     0.078420     0.070431    0.153054     True   \n",
       "5147    0.887356     0.545969     0.073172     0.073482    0.184010     True   \n",
       "5148    0.948509     0.497866     0.074016     0.048413    0.150345     True   \n",
       "\n",
       "      w_loc_H  w_loc_N  \n",
       "0           0        1  \n",
       "1           0        1  \n",
       "2           0        0  \n",
       "3           0        0  \n",
       "4           1        0  \n",
       "...       ...      ...  \n",
       "5144        0        1  \n",
       "5145        0        1  \n",
       "5146        0        1  \n",
       "5147        0        1  \n",
       "5148        0        1  \n",
       "\n",
       "[5149 rows x 109 columns]"
      ]
     },
     "execution_count": 5,
     "metadata": {},
     "output_type": "execute_result"
    }
   ],
   "source": [
    "df = pd.get_dummies(df, columns=['w_loc'], drop_first=True)\n",
    "df"
   ]
  },
  {
   "cell_type": "code",
   "execution_count": 6,
   "metadata": {
    "ExecuteTime": {
     "end_time": "2021-12-09T01:42:15.937503Z",
     "start_time": "2021-12-09T01:42:15.907077Z"
    }
   },
   "outputs": [
    {
     "data": {
      "text/plain": [
       "((4119, 108), (1030, 108))"
      ]
     },
     "execution_count": 6,
     "metadata": {},
     "output_type": "execute_result"
    }
   ],
   "source": [
    "#train_test_split\n",
    "X = df.drop('fav_win',axis=1)\n",
    "y = df['fav_win']\n",
    "\n",
    "X_train, X_test, y_train, y_test = train_test_split(X, y, test_size=0.2, random_state=42)\n",
    "\n",
    "X_train.shape, X_test.shape"
   ]
  },
  {
   "cell_type": "code",
   "execution_count": 7,
   "metadata": {
    "ExecuteTime": {
     "end_time": "2021-12-09T01:42:16.000428Z",
     "start_time": "2021-12-09T01:42:15.939528Z"
    }
   },
   "outputs": [],
   "source": [
    "ss = StandardScaler()\n",
    "X_train_scaled = ss.fit_transform(X_train)\n",
    "X_test_scaled = ss.transform(X_test)"
   ]
  },
  {
   "cell_type": "code",
   "execution_count": 8,
   "metadata": {
    "ExecuteTime": {
     "end_time": "2021-12-09T01:42:16.009453Z",
     "start_time": "2021-12-09T01:42:16.003239Z"
    }
   },
   "outputs": [],
   "source": [
    "X_train_scaled = pd.DataFrame(X_train_scaled, columns=X_train.columns)\n",
    "X_test_scaled = pd.DataFrame(X_test_scaled, columns=X_test.columns)"
   ]
  },
  {
   "cell_type": "markdown",
   "metadata": {},
   "source": [
    "### Logistic Regression"
   ]
  },
  {
   "cell_type": "code",
   "execution_count": 9,
   "metadata": {
    "ExecuteTime": {
     "end_time": "2021-12-09T01:42:59.264185Z",
     "start_time": "2021-12-09T01:42:16.018587Z"
    }
   },
   "outputs": [],
   "source": [
    "log_feat=feature_select(X_train_scaled,y_train,LogisticRegression,min_features=10)\n",
    "X_train_best_log = X_train_scaled[log_feat]\n",
    "X_test_best_log = X_test_scaled[log_feat]"
   ]
  },
  {
   "cell_type": "code",
   "execution_count": 10,
   "metadata": {
    "ExecuteTime": {
     "end_time": "2021-12-09T01:43:16.213852Z",
     "start_time": "2021-12-09T01:42:59.267405Z"
    }
   },
   "outputs": [
    {
     "name": "stdout",
     "output_type": "stream",
     "text": [
      "Penalty: l2\n",
      "Solver: sag\n",
      "Mean Cross-Val Score: 0.8506895209333601\n",
      "Train Mean Accuracy: 0.8540907987375577\n",
      "Test Mean Accuracy: 0.8378640776699029\n",
      "Recall Score: 0.9384816753926701\n",
      "Precision Score: 0.8566308243727598\n",
      "F1 Score: 0.8956901936289818\n"
     ]
    },
    {
     "data": {
      "image/png": "[encoded data removed]",
      "text/plain": [
       "<Figure size 432x288 with 1 Axes>"
      ]
     },
     "metadata": {
      "needs_background": "light"
     },
     "output_type": "display_data"
    },
    {
     "data": {
      "image/png": "[encoded data removed]",
      "text/plain": [
       "<Figure size 432x288 with 2 Axes>"
      ]
     },
     "metadata": {
      "needs_background": "light"
     },
     "output_type": "display_data"
    },
    {
     "data": {
      "image/png": "[encoded data removed]",
      "text/plain": [
       "<Figure size 432x288 with 2 Axes>"
      ]
     },
     "metadata": {
      "needs_background": "light"
     },
     "output_type": "display_data"
    }
   ],
   "source": [
    "logreg(X_train_best_log, X_test_best_log, y_train, y_test)"
   ]
  },
  {
   "cell_type": "markdown",
   "metadata": {},
   "source": [
    "### KNN"
   ]
  },
  {
   "cell_type": "code",
   "execution_count": 11,
   "metadata": {
    "ExecuteTime": {
     "end_time": "2021-12-09T01:53:06.316243Z",
     "start_time": "2021-12-09T01:43:16.217875Z"
    }
   },
   "outputs": [
    {
     "name": "stdout",
     "output_type": "stream",
     "text": [
      "Number of Neighbors: 5\n",
      "Metric: manhattan\n",
      "Weights: distance\n",
      "Mean Cross-Val Score: 0.8302985171465984\n",
      "Train Mean Accuracy: 1.0\n",
      "Test Mean Accuracy: 0.8126213592233009\n",
      "Recall Score: 0.9515706806282722\n",
      "Precision Score: 0.8233295583238958\n",
      "F1 score: 0.8828172434729811\n"
     ]
    },
    {
     "data": {
      "image/png": "[encoded data removed]",
      "text/plain": [
       "<Figure size 432x288 with 1 Axes>"
      ]
     },
     "metadata": {
      "needs_background": "light"
     },
     "output_type": "display_data"
    },
    {
     "data": {
      "image/png": "[encoded data removed]",
      "text/plain": [
       "<Figure size 432x288 with 2 Axes>"
      ]
     },
     "metadata": {
      "needs_background": "light"
     },
     "output_type": "display_data"
    },
    {
     "data": {
      "image/png": "[encoded data removed]",
      "text/plain": [
       "<Figure size 432x288 with 2 Axes>"
      ]
     },
     "metadata": {
      "needs_background": "light"
     },
     "output_type": "display_data"
    }
   ],
   "source": [
    "knn(X_train_scaled, X_test_scaled, y_train, y_test)"
   ]
  },
  {
   "cell_type": "markdown",
   "metadata": {},
   "source": [
    "### Decision Tree"
   ]
  },
  {
   "cell_type": "code",
   "execution_count": 12,
   "metadata": {
    "ExecuteTime": {
     "end_time": "2021-12-09T01:54:52.344652Z",
     "start_time": "2021-12-09T01:53:06.319270Z"
    }
   },
   "outputs": [],
   "source": [
    "dtree_feats=feature_select(X_train_scaled,y_train,DecisionTreeClassifier,min_features=10)"
   ]
  },
  {
   "cell_type": "code",
   "execution_count": 13,
   "metadata": {
    "ExecuteTime": {
     "end_time": "2021-12-09T01:54:52.367564Z",
     "start_time": "2021-12-09T01:54:52.347239Z"
    }
   },
   "outputs": [],
   "source": [
    "X_train_best_dtree=X_train[dtree_feats]\n",
    "X_test_best_dtree=X_test[dtree_feats]"
   ]
  },
  {
   "cell_type": "code",
   "execution_count": 14,
   "metadata": {
    "ExecuteTime": {
     "end_time": "2021-12-09T01:55:30.519432Z",
     "start_time": "2021-12-09T01:54:52.383715Z"
    }
   },
   "outputs": [
    {
     "name": "stdout",
     "output_type": "stream",
     "text": [
      "Max Depth: 15\n",
      "Min Sample Split: 2\n",
      "criterion: entropy\n",
      "Mean Cross-Val Score: 0.7742137455909589\n",
      "Train Mean Accuracy: 0.9987861131342559\n",
      "Test Mean Accuracy: 0.7864077669902912\n",
      "Recall Score: 0.862565445026178\n",
      "Precision Score: 0.851421188630491\n",
      "F1 score: 0.8569570871261378\n"
     ]
    },
    {
     "data": {
      "image/png": "[encoded data removed]",
      "text/plain": [
       "<Figure size 432x288 with 1 Axes>"
      ]
     },
     "metadata": {
      "needs_background": "light"
     },
     "output_type": "display_data"
    },
    {
     "data": {
      "image/png": "[encoded data removed]",
      "text/plain": [
       "<Figure size 432x288 with 2 Axes>"
      ]
     },
     "metadata": {
      "needs_background": "light"
     },
     "output_type": "display_data"
    },
    {
     "data": {
      "image/png": "[encoded data removed]",
      "text/plain": [
       "<Figure size 432x288 with 2 Axes>"
      ]
     },
     "metadata": {
      "needs_background": "light"
     },
     "output_type": "display_data"
    }
   ],
   "source": [
    "dtree(X_train_best_dtree, X_test_best_dtree, y_train, y_test)"
   ]
  },
  {
   "cell_type": "markdown",
   "metadata": {},
   "source": [
    "### Random Forest"
   ]
  },
  {
   "cell_type": "code",
   "execution_count": 15,
   "metadata": {
    "ExecuteTime": {
     "end_time": "2021-12-09T02:14:49.181593Z",
     "start_time": "2021-12-09T01:55:30.523469Z"
    }
   },
   "outputs": [],
   "source": [
    "random_forest_feat=feature_select(X_train_scaled,y_train,RandomForestClassifier,min_features=10)\n",
    "X_train_best_rforest=X_train_scaled[random_forest_feat]\n",
    "X_test_best_rforest=X_test_scaled[random_forest_feat]"
   ]
  },
  {
   "cell_type": "code",
   "execution_count": 16,
   "metadata": {
    "ExecuteTime": {
     "end_time": "2021-12-09T02:38:21.082713Z",
     "start_time": "2021-12-09T02:14:49.186550Z"
    }
   },
   "outputs": [
    {
     "name": "stdout",
     "output_type": "stream",
     "text": [
      "Number of Trees: 110\n",
      "Criterion: entropy\n",
      "Mean Cross-Val Score: 0.8421934905448927\n",
      "Train Mean Accuracy: 1.0\n",
      "Test Mean Accuracy: 0.8466019417475729\n",
      "Recall Score: 0.975130890052356\n",
      "Precision Score: 0.8427601809954751\n",
      "F1 score: 0.904126213592233\n"
     ]
    },
    {
     "data": {
      "image/png": "[encoded data removed]",
      "text/plain": [
       "<Figure size 432x288 with 1 Axes>"
      ]
     },
     "metadata": {
      "needs_background": "light"
     },
     "output_type": "display_data"
    },
    {
     "data": {
      "image/png": "[encoded data removed]",
      "text/plain": [
       "<Figure size 432x288 with 2 Axes>"
      ]
     },
     "metadata": {
      "needs_background": "light"
     },
     "output_type": "display_data"
    },
    {
     "data": {
      "image/png": "[encoded data removed]",
      "text/plain": [
       "<Figure size 432x288 with 2 Axes>"
      ]
     },
     "metadata": {
      "needs_background": "light"
     },
     "output_type": "display_data"
    }
   ],
   "source": [
    "random_forest(X_train, X_test, y_train, y_test, cv=5)"
   ]
  },
  {
   "cell_type": "markdown",
   "metadata": {},
   "source": [
    "### Bagging Classifier"
   ]
  },
  {
   "cell_type": "code",
   "execution_count": 18,
   "metadata": {
    "ExecuteTime": {
     "end_time": "2021-12-09T02:52:03.249097Z",
     "start_time": "2021-12-09T02:52:03.241434Z"
    }
   },
   "outputs": [],
   "source": [
    "#bagged(X_train, X_test, y_train, y_test, cv=5)"
   ]
  },
  {
   "cell_type": "markdown",
   "metadata": {},
   "source": [
    "### XGboost"
   ]
  },
  {
   "cell_type": "code",
   "execution_count": 19,
   "metadata": {
    "ExecuteTime": {
     "end_time": "2021-12-09T03:18:17.525151Z",
     "start_time": "2021-12-09T02:52:05.004796Z"
    }
   },
   "outputs": [
    {
     "name": "stdout",
     "output_type": "stream",
     "text": [
      "XGBoost Learning Rate: 0.1\n",
      "XGBoost Max Depth: 4\n",
      "XGBoost Min Child Weight: 3\n",
      "XGBoost Subsample: 1\n",
      "XGBoost Estimators: 500\n",
      "Mean Cross-Val Score: 0.8608916585072374\n",
      "Train Mean Accuracy Score: 1.0\n",
      "Test Mean Accuracy Score: 0.8679611650485437\n",
      "Recall Score: 0.9607329842931938\n",
      "Precision Score: 0.8738095238095238\n",
      "F1 score: 0.9152119700748129\n"
     ]
    },
    {
     "data": {
      "image/png": "[encoded data removed]",
      "text/plain": [
       "<Figure size 432x288 with 1 Axes>"
      ]
     },
     "metadata": {
      "needs_background": "light"
     },
     "output_type": "display_data"
    },
    {
     "data": {
      "image/png": "[encoded data removed]",
      "text/plain": [
       "<Figure size 432x288 with 2 Axes>"
      ]
     },
     "metadata": {
      "needs_background": "light"
     },
     "output_type": "display_data"
    },
    {
     "data": {
      "image/png": "[encoded data removed]",
      "text/plain": [
       "<Figure size 432x288 with 2 Axes>"
      ]
     },
     "metadata": {
      "needs_background": "light"
     },
     "output_type": "display_data"
    }
   ],
   "source": [
    "xgboost(X_train, X_test, y_train, y_test, cv=5)"
   ]
  },
  {
   "cell_type": "code",
   "execution_count": null,
   "metadata": {},
   "outputs": [],
   "source": []
  }
 ],
 "metadata": {
  "kernelspec": {
   "display_name": "Python (learn-env)",
   "language": "python",
   "name": "learn-env"
  },
  "language_info": {
   "codemirror_mode": {
    "name": "ipython",
    "version": 3
   },
   "file_extension": ".py",
   "mimetype": "text/x-python",
   "name": "python",
   "nbconvert_exporter": "python",
   "pygments_lexer": "ipython3",
   "version": "3.8.5"
  }
 },
 "nbformat": 4,
 "nbformat_minor": 4
}
